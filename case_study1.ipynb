{
  "nbformat": 4,
  "nbformat_minor": 0,
  "metadata": {
    "colab": {
      "provenance": [],
      "authorship_tag": "ABX9TyP9yFkVFJkCzFjxm3qpDkP6",
      "include_colab_link": true
    },
    "kernelspec": {
      "name": "python3",
      "display_name": "Python 3"
    },
    "language_info": {
      "name": "python"
    }
  },
  "cells": [
    {
      "cell_type": "markdown",
      "metadata": {
        "id": "view-in-github",
        "colab_type": "text"
      },
      "source": [
        "<a href=\"https://colab.research.google.com/github/sathizz7/ML_Task1/blob/main/case_study1.ipynb\" target=\"_parent\"><img src=\"https://colab.research.google.com/assets/colab-badge.svg\" alt=\"Open In Colab\"/></a>"
      ]
    },
    {
      "cell_type": "code",
      "execution_count": null,
      "metadata": {
        "id": "9r2zbVqpxptN"
      },
      "outputs": [],
      "source": [
        " import pandas as pd\n",
        "import numpy as np"
      ]
    },
    {
      "cell_type": "code",
      "source": [
        "data = pd.read_csv('creditcard.csv')"
      ],
      "metadata": {
        "id": "RRPmpWua4C6X"
      },
      "execution_count": null,
      "outputs": []
    },
    {
      "cell_type": "code",
      "source": [
        "data.head()"
      ],
      "metadata": {
        "colab": {
          "base_uri": "https://localhost:8080/",
          "height": 299
        },
        "id": "9fZs-ahN4opt",
        "outputId": "d406517b-3614-4296-9939-1aea8d83be58"
      },
      "execution_count": null,
      "outputs": [
        {
          "output_type": "execute_result",
          "data": {
            "text/plain": [
              "   Time        V1        V2        V3        V4        V5        V6        V7  \\\n",
              "0   0.0 -1.359807 -0.072781  2.536347  1.378155 -0.338321  0.462388  0.239599   \n",
              "1   0.0  1.191857  0.266151  0.166480  0.448154  0.060018 -0.082361 -0.078803   \n",
              "2   1.0 -1.358354 -1.340163  1.773209  0.379780 -0.503198  1.800499  0.791461   \n",
              "3   1.0 -0.966272 -0.185226  1.792993 -0.863291 -0.010309  1.247203  0.237609   \n",
              "4   2.0 -1.158233  0.877737  1.548718  0.403034 -0.407193  0.095921  0.592941   \n",
              "\n",
              "         V8        V9  ...       V21       V22       V23       V24       V25  \\\n",
              "0  0.098698  0.363787  ... -0.018307  0.277838 -0.110474  0.066928  0.128539   \n",
              "1  0.085102 -0.255425  ... -0.225775 -0.638672  0.101288 -0.339846  0.167170   \n",
              "2  0.247676 -1.514654  ...  0.247998  0.771679  0.909412 -0.689281 -0.327642   \n",
              "3  0.377436 -1.387024  ... -0.108300  0.005274 -0.190321 -1.175575  0.647376   \n",
              "4 -0.270533  0.817739  ... -0.009431  0.798278 -0.137458  0.141267 -0.206010   \n",
              "\n",
              "        V26       V27       V28  Amount  Class  \n",
              "0 -0.189115  0.133558 -0.021053  149.62      0  \n",
              "1  0.125895 -0.008983  0.014724    2.69      0  \n",
              "2 -0.139097 -0.055353 -0.059752  378.66      0  \n",
              "3 -0.221929  0.062723  0.061458  123.50      0  \n",
              "4  0.502292  0.219422  0.215153   69.99      0  \n",
              "\n",
              "[5 rows x 31 columns]"
            ],
            "text/html": [
              "\n",
              "  <div id=\"df-59888a64-7329-4e01-b9d8-b9bb8eb700c8\">\n",
              "    <div class=\"colab-df-container\">\n",
              "      <div>\n",
              "<style scoped>\n",
              "    .dataframe tbody tr th:only-of-type {\n",
              "        vertical-align: middle;\n",
              "    }\n",
              "\n",
              "    .dataframe tbody tr th {\n",
              "        vertical-align: top;\n",
              "    }\n",
              "\n",
              "    .dataframe thead th {\n",
              "        text-align: right;\n",
              "    }\n",
              "</style>\n",
              "<table border=\"1\" class=\"dataframe\">\n",
              "  <thead>\n",
              "    <tr style=\"text-align: right;\">\n",
              "      <th></th>\n",
              "      <th>Time</th>\n",
              "      <th>V1</th>\n",
              "      <th>V2</th>\n",
              "      <th>V3</th>\n",
              "      <th>V4</th>\n",
              "      <th>V5</th>\n",
              "      <th>V6</th>\n",
              "      <th>V7</th>\n",
              "      <th>V8</th>\n",
              "      <th>V9</th>\n",
              "      <th>...</th>\n",
              "      <th>V21</th>\n",
              "      <th>V22</th>\n",
              "      <th>V23</th>\n",
              "      <th>V24</th>\n",
              "      <th>V25</th>\n",
              "      <th>V26</th>\n",
              "      <th>V27</th>\n",
              "      <th>V28</th>\n",
              "      <th>Amount</th>\n",
              "      <th>Class</th>\n",
              "    </tr>\n",
              "  </thead>\n",
              "  <tbody>\n",
              "    <tr>\n",
              "      <th>0</th>\n",
              "      <td>0.0</td>\n",
              "      <td>-1.359807</td>\n",
              "      <td>-0.072781</td>\n",
              "      <td>2.536347</td>\n",
              "      <td>1.378155</td>\n",
              "      <td>-0.338321</td>\n",
              "      <td>0.462388</td>\n",
              "      <td>0.239599</td>\n",
              "      <td>0.098698</td>\n",
              "      <td>0.363787</td>\n",
              "      <td>...</td>\n",
              "      <td>-0.018307</td>\n",
              "      <td>0.277838</td>\n",
              "      <td>-0.110474</td>\n",
              "      <td>0.066928</td>\n",
              "      <td>0.128539</td>\n",
              "      <td>-0.189115</td>\n",
              "      <td>0.133558</td>\n",
              "      <td>-0.021053</td>\n",
              "      <td>149.62</td>\n",
              "      <td>0</td>\n",
              "    </tr>\n",
              "    <tr>\n",
              "      <th>1</th>\n",
              "      <td>0.0</td>\n",
              "      <td>1.191857</td>\n",
              "      <td>0.266151</td>\n",
              "      <td>0.166480</td>\n",
              "      <td>0.448154</td>\n",
              "      <td>0.060018</td>\n",
              "      <td>-0.082361</td>\n",
              "      <td>-0.078803</td>\n",
              "      <td>0.085102</td>\n",
              "      <td>-0.255425</td>\n",
              "      <td>...</td>\n",
              "      <td>-0.225775</td>\n",
              "      <td>-0.638672</td>\n",
              "      <td>0.101288</td>\n",
              "      <td>-0.339846</td>\n",
              "      <td>0.167170</td>\n",
              "      <td>0.125895</td>\n",
              "      <td>-0.008983</td>\n",
              "      <td>0.014724</td>\n",
              "      <td>2.69</td>\n",
              "      <td>0</td>\n",
              "    </tr>\n",
              "    <tr>\n",
              "      <th>2</th>\n",
              "      <td>1.0</td>\n",
              "      <td>-1.358354</td>\n",
              "      <td>-1.340163</td>\n",
              "      <td>1.773209</td>\n",
              "      <td>0.379780</td>\n",
              "      <td>-0.503198</td>\n",
              "      <td>1.800499</td>\n",
              "      <td>0.791461</td>\n",
              "      <td>0.247676</td>\n",
              "      <td>-1.514654</td>\n",
              "      <td>...</td>\n",
              "      <td>0.247998</td>\n",
              "      <td>0.771679</td>\n",
              "      <td>0.909412</td>\n",
              "      <td>-0.689281</td>\n",
              "      <td>-0.327642</td>\n",
              "      <td>-0.139097</td>\n",
              "      <td>-0.055353</td>\n",
              "      <td>-0.059752</td>\n",
              "      <td>378.66</td>\n",
              "      <td>0</td>\n",
              "    </tr>\n",
              "    <tr>\n",
              "      <th>3</th>\n",
              "      <td>1.0</td>\n",
              "      <td>-0.966272</td>\n",
              "      <td>-0.185226</td>\n",
              "      <td>1.792993</td>\n",
              "      <td>-0.863291</td>\n",
              "      <td>-0.010309</td>\n",
              "      <td>1.247203</td>\n",
              "      <td>0.237609</td>\n",
              "      <td>0.377436</td>\n",
              "      <td>-1.387024</td>\n",
              "      <td>...</td>\n",
              "      <td>-0.108300</td>\n",
              "      <td>0.005274</td>\n",
              "      <td>-0.190321</td>\n",
              "      <td>-1.175575</td>\n",
              "      <td>0.647376</td>\n",
              "      <td>-0.221929</td>\n",
              "      <td>0.062723</td>\n",
              "      <td>0.061458</td>\n",
              "      <td>123.50</td>\n",
              "      <td>0</td>\n",
              "    </tr>\n",
              "    <tr>\n",
              "      <th>4</th>\n",
              "      <td>2.0</td>\n",
              "      <td>-1.158233</td>\n",
              "      <td>0.877737</td>\n",
              "      <td>1.548718</td>\n",
              "      <td>0.403034</td>\n",
              "      <td>-0.407193</td>\n",
              "      <td>0.095921</td>\n",
              "      <td>0.592941</td>\n",
              "      <td>-0.270533</td>\n",
              "      <td>0.817739</td>\n",
              "      <td>...</td>\n",
              "      <td>-0.009431</td>\n",
              "      <td>0.798278</td>\n",
              "      <td>-0.137458</td>\n",
              "      <td>0.141267</td>\n",
              "      <td>-0.206010</td>\n",
              "      <td>0.502292</td>\n",
              "      <td>0.219422</td>\n",
              "      <td>0.215153</td>\n",
              "      <td>69.99</td>\n",
              "      <td>0</td>\n",
              "    </tr>\n",
              "  </tbody>\n",
              "</table>\n",
              "<p>5 rows × 31 columns</p>\n",
              "</div>\n",
              "      <button class=\"colab-df-convert\" onclick=\"convertToInteractive('df-59888a64-7329-4e01-b9d8-b9bb8eb700c8')\"\n",
              "              title=\"Convert this dataframe to an interactive table.\"\n",
              "              style=\"display:none;\">\n",
              "        \n",
              "  <svg xmlns=\"http://www.w3.org/2000/svg\" height=\"24px\"viewBox=\"0 0 24 24\"\n",
              "       width=\"24px\">\n",
              "    <path d=\"M0 0h24v24H0V0z\" fill=\"none\"/>\n",
              "    <path d=\"M18.56 5.44l.94 2.06.94-2.06 2.06-.94-2.06-.94-.94-2.06-.94 2.06-2.06.94zm-11 1L8.5 8.5l.94-2.06 2.06-.94-2.06-.94L8.5 2.5l-.94 2.06-2.06.94zm10 10l.94 2.06.94-2.06 2.06-.94-2.06-.94-.94-2.06-.94 2.06-2.06.94z\"/><path d=\"M17.41 7.96l-1.37-1.37c-.4-.4-.92-.59-1.43-.59-.52 0-1.04.2-1.43.59L10.3 9.45l-7.72 7.72c-.78.78-.78 2.05 0 2.83L4 21.41c.39.39.9.59 1.41.59.51 0 1.02-.2 1.41-.59l7.78-7.78 2.81-2.81c.8-.78.8-2.07 0-2.86zM5.41 20L4 18.59l7.72-7.72 1.47 1.35L5.41 20z\"/>\n",
              "  </svg>\n",
              "      </button>\n",
              "      \n",
              "  <style>\n",
              "    .colab-df-container {\n",
              "      display:flex;\n",
              "      flex-wrap:wrap;\n",
              "      gap: 12px;\n",
              "    }\n",
              "\n",
              "    .colab-df-convert {\n",
              "      background-color: #E8F0FE;\n",
              "      border: none;\n",
              "      border-radius: 50%;\n",
              "      cursor: pointer;\n",
              "      display: none;\n",
              "      fill: #1967D2;\n",
              "      height: 32px;\n",
              "      padding: 0 0 0 0;\n",
              "      width: 32px;\n",
              "    }\n",
              "\n",
              "    .colab-df-convert:hover {\n",
              "      background-color: #E2EBFA;\n",
              "      box-shadow: 0px 1px 2px rgba(60, 64, 67, 0.3), 0px 1px 3px 1px rgba(60, 64, 67, 0.15);\n",
              "      fill: #174EA6;\n",
              "    }\n",
              "\n",
              "    [theme=dark] .colab-df-convert {\n",
              "      background-color: #3B4455;\n",
              "      fill: #D2E3FC;\n",
              "    }\n",
              "\n",
              "    [theme=dark] .colab-df-convert:hover {\n",
              "      background-color: #434B5C;\n",
              "      box-shadow: 0px 1px 3px 1px rgba(0, 0, 0, 0.15);\n",
              "      filter: drop-shadow(0px 1px 2px rgba(0, 0, 0, 0.3));\n",
              "      fill: #FFFFFF;\n",
              "    }\n",
              "  </style>\n",
              "\n",
              "      <script>\n",
              "        const buttonEl =\n",
              "          document.querySelector('#df-59888a64-7329-4e01-b9d8-b9bb8eb700c8 button.colab-df-convert');\n",
              "        buttonEl.style.display =\n",
              "          google.colab.kernel.accessAllowed ? 'block' : 'none';\n",
              "\n",
              "        async function convertToInteractive(key) {\n",
              "          const element = document.querySelector('#df-59888a64-7329-4e01-b9d8-b9bb8eb700c8');\n",
              "          const dataTable =\n",
              "            await google.colab.kernel.invokeFunction('convertToInteractive',\n",
              "                                                     [key], {});\n",
              "          if (!dataTable) return;\n",
              "\n",
              "          const docLinkHtml = 'Like what you see? Visit the ' +\n",
              "            '<a target=\"_blank\" href=https://colab.research.google.com/notebooks/data_table.ipynb>data table notebook</a>'\n",
              "            + ' to learn more about interactive tables.';\n",
              "          element.innerHTML = '';\n",
              "          dataTable['output_type'] = 'display_data';\n",
              "          await google.colab.output.renderOutput(dataTable, element);\n",
              "          const docLink = document.createElement('div');\n",
              "          docLink.innerHTML = docLinkHtml;\n",
              "          element.appendChild(docLink);\n",
              "        }\n",
              "      </script>\n",
              "    </div>\n",
              "  </div>\n",
              "  "
            ]
          },
          "metadata": {},
          "execution_count": 41
        }
      ]
    },
    {
      "cell_type": "code",
      "source": [
        "data.shape"
      ],
      "metadata": {
        "colab": {
          "base_uri": "https://localhost:8080/"
        },
        "id": "ucudzvKy4tpD",
        "outputId": "9d47a918-7276-4da9-bca1-dbda64322904"
      },
      "execution_count": null,
      "outputs": [
        {
          "output_type": "execute_result",
          "data": {
            "text/plain": [
              "(284807, 31)"
            ]
          },
          "metadata": {},
          "execution_count": 42
        }
      ]
    },
    {
      "cell_type": "code",
      "source": [
        "data.describe()"
      ],
      "metadata": {
        "colab": {
          "base_uri": "https://localhost:8080/",
          "height": 394
        },
        "id": "3m-s32BA7hss",
        "outputId": "b70a0765-bc9d-49a5-e52c-a7b25bdc1517"
      },
      "execution_count": null,
      "outputs": [
        {
          "output_type": "execute_result",
          "data": {
            "text/plain": [
              "                Time            V1            V2            V3            V4  \\\n",
              "count  284807.000000  2.848070e+05  2.848070e+05  2.848070e+05  2.848070e+05   \n",
              "mean    94813.859575  1.168375e-15  3.416908e-16 -1.379537e-15  2.074095e-15   \n",
              "std     47488.145955  1.958696e+00  1.651309e+00  1.516255e+00  1.415869e+00   \n",
              "min         0.000000 -5.640751e+01 -7.271573e+01 -4.832559e+01 -5.683171e+00   \n",
              "25%     54201.500000 -9.203734e-01 -5.985499e-01 -8.903648e-01 -8.486401e-01   \n",
              "50%     84692.000000  1.810880e-02  6.548556e-02  1.798463e-01 -1.984653e-02   \n",
              "75%    139320.500000  1.315642e+00  8.037239e-01  1.027196e+00  7.433413e-01   \n",
              "max    172792.000000  2.454930e+00  2.205773e+01  9.382558e+00  1.687534e+01   \n",
              "\n",
              "                 V5            V6            V7            V8            V9  \\\n",
              "count  2.848070e+05  2.848070e+05  2.848070e+05  2.848070e+05  2.848070e+05   \n",
              "mean   9.604066e-16  1.487313e-15 -5.556467e-16  1.213481e-16 -2.406331e-15   \n",
              "std    1.380247e+00  1.332271e+00  1.237094e+00  1.194353e+00  1.098632e+00   \n",
              "min   -1.137433e+02 -2.616051e+01 -4.355724e+01 -7.321672e+01 -1.343407e+01   \n",
              "25%   -6.915971e-01 -7.682956e-01 -5.540759e-01 -2.086297e-01 -6.430976e-01   \n",
              "50%   -5.433583e-02 -2.741871e-01  4.010308e-02  2.235804e-02 -5.142873e-02   \n",
              "75%    6.119264e-01  3.985649e-01  5.704361e-01  3.273459e-01  5.971390e-01   \n",
              "max    3.480167e+01  7.330163e+01  1.205895e+02  2.000721e+01  1.559499e+01   \n",
              "\n",
              "       ...           V21           V22           V23           V24  \\\n",
              "count  ...  2.848070e+05  2.848070e+05  2.848070e+05  2.848070e+05   \n",
              "mean   ...  1.654067e-16 -3.568593e-16  2.578648e-16  4.473266e-15   \n",
              "std    ...  7.345240e-01  7.257016e-01  6.244603e-01  6.056471e-01   \n",
              "min    ... -3.483038e+01 -1.093314e+01 -4.480774e+01 -2.836627e+00   \n",
              "25%    ... -2.283949e-01 -5.423504e-01 -1.618463e-01 -3.545861e-01   \n",
              "50%    ... -2.945017e-02  6.781943e-03 -1.119293e-02  4.097606e-02   \n",
              "75%    ...  1.863772e-01  5.285536e-01  1.476421e-01  4.395266e-01   \n",
              "max    ...  2.720284e+01  1.050309e+01  2.252841e+01  4.584549e+00   \n",
              "\n",
              "                V25           V26           V27           V28         Amount  \\\n",
              "count  2.848070e+05  2.848070e+05  2.848070e+05  2.848070e+05  284807.000000   \n",
              "mean   5.340915e-16  1.683437e-15 -3.660091e-16 -1.227390e-16      88.349619   \n",
              "std    5.212781e-01  4.822270e-01  4.036325e-01  3.300833e-01     250.120109   \n",
              "min   -1.029540e+01 -2.604551e+00 -2.256568e+01 -1.543008e+01       0.000000   \n",
              "25%   -3.171451e-01 -3.269839e-01 -7.083953e-02 -5.295979e-02       5.600000   \n",
              "50%    1.659350e-02 -5.213911e-02  1.342146e-03  1.124383e-02      22.000000   \n",
              "75%    3.507156e-01  2.409522e-01  9.104512e-02  7.827995e-02      77.165000   \n",
              "max    7.519589e+00  3.517346e+00  3.161220e+01  3.384781e+01   25691.160000   \n",
              "\n",
              "               Class  \n",
              "count  284807.000000  \n",
              "mean        0.001727  \n",
              "std         0.041527  \n",
              "min         0.000000  \n",
              "25%         0.000000  \n",
              "50%         0.000000  \n",
              "75%         0.000000  \n",
              "max         1.000000  \n",
              "\n",
              "[8 rows x 31 columns]"
            ],
            "text/html": [
              "\n",
              "  <div id=\"df-a28c515d-21f1-4683-8539-3e861ac3c085\">\n",
              "    <div class=\"colab-df-container\">\n",
              "      <div>\n",
              "<style scoped>\n",
              "    .dataframe tbody tr th:only-of-type {\n",
              "        vertical-align: middle;\n",
              "    }\n",
              "\n",
              "    .dataframe tbody tr th {\n",
              "        vertical-align: top;\n",
              "    }\n",
              "\n",
              "    .dataframe thead th {\n",
              "        text-align: right;\n",
              "    }\n",
              "</style>\n",
              "<table border=\"1\" class=\"dataframe\">\n",
              "  <thead>\n",
              "    <tr style=\"text-align: right;\">\n",
              "      <th></th>\n",
              "      <th>Time</th>\n",
              "      <th>V1</th>\n",
              "      <th>V2</th>\n",
              "      <th>V3</th>\n",
              "      <th>V4</th>\n",
              "      <th>V5</th>\n",
              "      <th>V6</th>\n",
              "      <th>V7</th>\n",
              "      <th>V8</th>\n",
              "      <th>V9</th>\n",
              "      <th>...</th>\n",
              "      <th>V21</th>\n",
              "      <th>V22</th>\n",
              "      <th>V23</th>\n",
              "      <th>V24</th>\n",
              "      <th>V25</th>\n",
              "      <th>V26</th>\n",
              "      <th>V27</th>\n",
              "      <th>V28</th>\n",
              "      <th>Amount</th>\n",
              "      <th>Class</th>\n",
              "    </tr>\n",
              "  </thead>\n",
              "  <tbody>\n",
              "    <tr>\n",
              "      <th>count</th>\n",
              "      <td>284807.000000</td>\n",
              "      <td>2.848070e+05</td>\n",
              "      <td>2.848070e+05</td>\n",
              "      <td>2.848070e+05</td>\n",
              "      <td>2.848070e+05</td>\n",
              "      <td>2.848070e+05</td>\n",
              "      <td>2.848070e+05</td>\n",
              "      <td>2.848070e+05</td>\n",
              "      <td>2.848070e+05</td>\n",
              "      <td>2.848070e+05</td>\n",
              "      <td>...</td>\n",
              "      <td>2.848070e+05</td>\n",
              "      <td>2.848070e+05</td>\n",
              "      <td>2.848070e+05</td>\n",
              "      <td>2.848070e+05</td>\n",
              "      <td>2.848070e+05</td>\n",
              "      <td>2.848070e+05</td>\n",
              "      <td>2.848070e+05</td>\n",
              "      <td>2.848070e+05</td>\n",
              "      <td>284807.000000</td>\n",
              "      <td>284807.000000</td>\n",
              "    </tr>\n",
              "    <tr>\n",
              "      <th>mean</th>\n",
              "      <td>94813.859575</td>\n",
              "      <td>1.168375e-15</td>\n",
              "      <td>3.416908e-16</td>\n",
              "      <td>-1.379537e-15</td>\n",
              "      <td>2.074095e-15</td>\n",
              "      <td>9.604066e-16</td>\n",
              "      <td>1.487313e-15</td>\n",
              "      <td>-5.556467e-16</td>\n",
              "      <td>1.213481e-16</td>\n",
              "      <td>-2.406331e-15</td>\n",
              "      <td>...</td>\n",
              "      <td>1.654067e-16</td>\n",
              "      <td>-3.568593e-16</td>\n",
              "      <td>2.578648e-16</td>\n",
              "      <td>4.473266e-15</td>\n",
              "      <td>5.340915e-16</td>\n",
              "      <td>1.683437e-15</td>\n",
              "      <td>-3.660091e-16</td>\n",
              "      <td>-1.227390e-16</td>\n",
              "      <td>88.349619</td>\n",
              "      <td>0.001727</td>\n",
              "    </tr>\n",
              "    <tr>\n",
              "      <th>std</th>\n",
              "      <td>47488.145955</td>\n",
              "      <td>1.958696e+00</td>\n",
              "      <td>1.651309e+00</td>\n",
              "      <td>1.516255e+00</td>\n",
              "      <td>1.415869e+00</td>\n",
              "      <td>1.380247e+00</td>\n",
              "      <td>1.332271e+00</td>\n",
              "      <td>1.237094e+00</td>\n",
              "      <td>1.194353e+00</td>\n",
              "      <td>1.098632e+00</td>\n",
              "      <td>...</td>\n",
              "      <td>7.345240e-01</td>\n",
              "      <td>7.257016e-01</td>\n",
              "      <td>6.244603e-01</td>\n",
              "      <td>6.056471e-01</td>\n",
              "      <td>5.212781e-01</td>\n",
              "      <td>4.822270e-01</td>\n",
              "      <td>4.036325e-01</td>\n",
              "      <td>3.300833e-01</td>\n",
              "      <td>250.120109</td>\n",
              "      <td>0.041527</td>\n",
              "    </tr>\n",
              "    <tr>\n",
              "      <th>min</th>\n",
              "      <td>0.000000</td>\n",
              "      <td>-5.640751e+01</td>\n",
              "      <td>-7.271573e+01</td>\n",
              "      <td>-4.832559e+01</td>\n",
              "      <td>-5.683171e+00</td>\n",
              "      <td>-1.137433e+02</td>\n",
              "      <td>-2.616051e+01</td>\n",
              "      <td>-4.355724e+01</td>\n",
              "      <td>-7.321672e+01</td>\n",
              "      <td>-1.343407e+01</td>\n",
              "      <td>...</td>\n",
              "      <td>-3.483038e+01</td>\n",
              "      <td>-1.093314e+01</td>\n",
              "      <td>-4.480774e+01</td>\n",
              "      <td>-2.836627e+00</td>\n",
              "      <td>-1.029540e+01</td>\n",
              "      <td>-2.604551e+00</td>\n",
              "      <td>-2.256568e+01</td>\n",
              "      <td>-1.543008e+01</td>\n",
              "      <td>0.000000</td>\n",
              "      <td>0.000000</td>\n",
              "    </tr>\n",
              "    <tr>\n",
              "      <th>25%</th>\n",
              "      <td>54201.500000</td>\n",
              "      <td>-9.203734e-01</td>\n",
              "      <td>-5.985499e-01</td>\n",
              "      <td>-8.903648e-01</td>\n",
              "      <td>-8.486401e-01</td>\n",
              "      <td>-6.915971e-01</td>\n",
              "      <td>-7.682956e-01</td>\n",
              "      <td>-5.540759e-01</td>\n",
              "      <td>-2.086297e-01</td>\n",
              "      <td>-6.430976e-01</td>\n",
              "      <td>...</td>\n",
              "      <td>-2.283949e-01</td>\n",
              "      <td>-5.423504e-01</td>\n",
              "      <td>-1.618463e-01</td>\n",
              "      <td>-3.545861e-01</td>\n",
              "      <td>-3.171451e-01</td>\n",
              "      <td>-3.269839e-01</td>\n",
              "      <td>-7.083953e-02</td>\n",
              "      <td>-5.295979e-02</td>\n",
              "      <td>5.600000</td>\n",
              "      <td>0.000000</td>\n",
              "    </tr>\n",
              "    <tr>\n",
              "      <th>50%</th>\n",
              "      <td>84692.000000</td>\n",
              "      <td>1.810880e-02</td>\n",
              "      <td>6.548556e-02</td>\n",
              "      <td>1.798463e-01</td>\n",
              "      <td>-1.984653e-02</td>\n",
              "      <td>-5.433583e-02</td>\n",
              "      <td>-2.741871e-01</td>\n",
              "      <td>4.010308e-02</td>\n",
              "      <td>2.235804e-02</td>\n",
              "      <td>-5.142873e-02</td>\n",
              "      <td>...</td>\n",
              "      <td>-2.945017e-02</td>\n",
              "      <td>6.781943e-03</td>\n",
              "      <td>-1.119293e-02</td>\n",
              "      <td>4.097606e-02</td>\n",
              "      <td>1.659350e-02</td>\n",
              "      <td>-5.213911e-02</td>\n",
              "      <td>1.342146e-03</td>\n",
              "      <td>1.124383e-02</td>\n",
              "      <td>22.000000</td>\n",
              "      <td>0.000000</td>\n",
              "    </tr>\n",
              "    <tr>\n",
              "      <th>75%</th>\n",
              "      <td>139320.500000</td>\n",
              "      <td>1.315642e+00</td>\n",
              "      <td>8.037239e-01</td>\n",
              "      <td>1.027196e+00</td>\n",
              "      <td>7.433413e-01</td>\n",
              "      <td>6.119264e-01</td>\n",
              "      <td>3.985649e-01</td>\n",
              "      <td>5.704361e-01</td>\n",
              "      <td>3.273459e-01</td>\n",
              "      <td>5.971390e-01</td>\n",
              "      <td>...</td>\n",
              "      <td>1.863772e-01</td>\n",
              "      <td>5.285536e-01</td>\n",
              "      <td>1.476421e-01</td>\n",
              "      <td>4.395266e-01</td>\n",
              "      <td>3.507156e-01</td>\n",
              "      <td>2.409522e-01</td>\n",
              "      <td>9.104512e-02</td>\n",
              "      <td>7.827995e-02</td>\n",
              "      <td>77.165000</td>\n",
              "      <td>0.000000</td>\n",
              "    </tr>\n",
              "    <tr>\n",
              "      <th>max</th>\n",
              "      <td>172792.000000</td>\n",
              "      <td>2.454930e+00</td>\n",
              "      <td>2.205773e+01</td>\n",
              "      <td>9.382558e+00</td>\n",
              "      <td>1.687534e+01</td>\n",
              "      <td>3.480167e+01</td>\n",
              "      <td>7.330163e+01</td>\n",
              "      <td>1.205895e+02</td>\n",
              "      <td>2.000721e+01</td>\n",
              "      <td>1.559499e+01</td>\n",
              "      <td>...</td>\n",
              "      <td>2.720284e+01</td>\n",
              "      <td>1.050309e+01</td>\n",
              "      <td>2.252841e+01</td>\n",
              "      <td>4.584549e+00</td>\n",
              "      <td>7.519589e+00</td>\n",
              "      <td>3.517346e+00</td>\n",
              "      <td>3.161220e+01</td>\n",
              "      <td>3.384781e+01</td>\n",
              "      <td>25691.160000</td>\n",
              "      <td>1.000000</td>\n",
              "    </tr>\n",
              "  </tbody>\n",
              "</table>\n",
              "<p>8 rows × 31 columns</p>\n",
              "</div>\n",
              "      <button class=\"colab-df-convert\" onclick=\"convertToInteractive('df-a28c515d-21f1-4683-8539-3e861ac3c085')\"\n",
              "              title=\"Convert this dataframe to an interactive table.\"\n",
              "              style=\"display:none;\">\n",
              "        \n",
              "  <svg xmlns=\"http://www.w3.org/2000/svg\" height=\"24px\"viewBox=\"0 0 24 24\"\n",
              "       width=\"24px\">\n",
              "    <path d=\"M0 0h24v24H0V0z\" fill=\"none\"/>\n",
              "    <path d=\"M18.56 5.44l.94 2.06.94-2.06 2.06-.94-2.06-.94-.94-2.06-.94 2.06-2.06.94zm-11 1L8.5 8.5l.94-2.06 2.06-.94-2.06-.94L8.5 2.5l-.94 2.06-2.06.94zm10 10l.94 2.06.94-2.06 2.06-.94-2.06-.94-.94-2.06-.94 2.06-2.06.94z\"/><path d=\"M17.41 7.96l-1.37-1.37c-.4-.4-.92-.59-1.43-.59-.52 0-1.04.2-1.43.59L10.3 9.45l-7.72 7.72c-.78.78-.78 2.05 0 2.83L4 21.41c.39.39.9.59 1.41.59.51 0 1.02-.2 1.41-.59l7.78-7.78 2.81-2.81c.8-.78.8-2.07 0-2.86zM5.41 20L4 18.59l7.72-7.72 1.47 1.35L5.41 20z\"/>\n",
              "  </svg>\n",
              "      </button>\n",
              "      \n",
              "  <style>\n",
              "    .colab-df-container {\n",
              "      display:flex;\n",
              "      flex-wrap:wrap;\n",
              "      gap: 12px;\n",
              "    }\n",
              "\n",
              "    .colab-df-convert {\n",
              "      background-color: #E8F0FE;\n",
              "      border: none;\n",
              "      border-radius: 50%;\n",
              "      cursor: pointer;\n",
              "      display: none;\n",
              "      fill: #1967D2;\n",
              "      height: 32px;\n",
              "      padding: 0 0 0 0;\n",
              "      width: 32px;\n",
              "    }\n",
              "\n",
              "    .colab-df-convert:hover {\n",
              "      background-color: #E2EBFA;\n",
              "      box-shadow: 0px 1px 2px rgba(60, 64, 67, 0.3), 0px 1px 3px 1px rgba(60, 64, 67, 0.15);\n",
              "      fill: #174EA6;\n",
              "    }\n",
              "\n",
              "    [theme=dark] .colab-df-convert {\n",
              "      background-color: #3B4455;\n",
              "      fill: #D2E3FC;\n",
              "    }\n",
              "\n",
              "    [theme=dark] .colab-df-convert:hover {\n",
              "      background-color: #434B5C;\n",
              "      box-shadow: 0px 1px 3px 1px rgba(0, 0, 0, 0.15);\n",
              "      filter: drop-shadow(0px 1px 2px rgba(0, 0, 0, 0.3));\n",
              "      fill: #FFFFFF;\n",
              "    }\n",
              "  </style>\n",
              "\n",
              "      <script>\n",
              "        const buttonEl =\n",
              "          document.querySelector('#df-a28c515d-21f1-4683-8539-3e861ac3c085 button.colab-df-convert');\n",
              "        buttonEl.style.display =\n",
              "          google.colab.kernel.accessAllowed ? 'block' : 'none';\n",
              "\n",
              "        async function convertToInteractive(key) {\n",
              "          const element = document.querySelector('#df-a28c515d-21f1-4683-8539-3e861ac3c085');\n",
              "          const dataTable =\n",
              "            await google.colab.kernel.invokeFunction('convertToInteractive',\n",
              "                                                     [key], {});\n",
              "          if (!dataTable) return;\n",
              "\n",
              "          const docLinkHtml = 'Like what you see? Visit the ' +\n",
              "            '<a target=\"_blank\" href=https://colab.research.google.com/notebooks/data_table.ipynb>data table notebook</a>'\n",
              "            + ' to learn more about interactive tables.';\n",
              "          element.innerHTML = '';\n",
              "          dataTable['output_type'] = 'display_data';\n",
              "          await google.colab.output.renderOutput(dataTable, element);\n",
              "          const docLink = document.createElement('div');\n",
              "          docLink.innerHTML = docLinkHtml;\n",
              "          element.appendChild(docLink);\n",
              "        }\n",
              "      </script>\n",
              "    </div>\n",
              "  </div>\n",
              "  "
            ]
          },
          "metadata": {},
          "execution_count": 43
        }
      ]
    },
    {
      "cell_type": "code",
      "source": [
        "data['Class'].unique()"
      ],
      "metadata": {
        "colab": {
          "base_uri": "https://localhost:8080/"
        },
        "id": "FP_KZROf7mGK",
        "outputId": "03fcdd9d-e72a-4528-98f3-722faa07f96c"
      },
      "execution_count": null,
      "outputs": [
        {
          "output_type": "execute_result",
          "data": {
            "text/plain": [
              "array([0, 1])"
            ]
          },
          "metadata": {},
          "execution_count": 44
        }
      ]
    },
    {
      "cell_type": "code",
      "source": [
        "data.isnull().sum()"
      ],
      "metadata": {
        "colab": {
          "base_uri": "https://localhost:8080/"
        },
        "id": "5UGdqDOU8fTs",
        "outputId": "0df4ce57-1a6c-4348-dd54-c5d25f4f2840"
      },
      "execution_count": null,
      "outputs": [
        {
          "output_type": "execute_result",
          "data": {
            "text/plain": [
              "Time      0\n",
              "V1        0\n",
              "V2        0\n",
              "V3        0\n",
              "V4        0\n",
              "V5        0\n",
              "V6        0\n",
              "V7        0\n",
              "V8        0\n",
              "V9        0\n",
              "V10       0\n",
              "V11       0\n",
              "V12       0\n",
              "V13       0\n",
              "V14       0\n",
              "V15       0\n",
              "V16       0\n",
              "V17       0\n",
              "V18       0\n",
              "V19       0\n",
              "V20       0\n",
              "V21       0\n",
              "V22       0\n",
              "V23       0\n",
              "V24       0\n",
              "V25       0\n",
              "V26       0\n",
              "V27       0\n",
              "V28       0\n",
              "Amount    0\n",
              "Class     0\n",
              "dtype: int64"
            ]
          },
          "metadata": {},
          "execution_count": 45
        }
      ]
    },
    {
      "cell_type": "code",
      "source": [
        "import seaborn as sns"
      ],
      "metadata": {
        "id": "o1xO_54Z8szc"
      },
      "execution_count": null,
      "outputs": []
    },
    {
      "cell_type": "code",
      "source": [
        "data['Class'].value_counts()"
      ],
      "metadata": {
        "colab": {
          "base_uri": "https://localhost:8080/"
        },
        "id": "JamgVosb85oI",
        "outputId": "b2aecd6f-d912-4a71-b86c-cbc62f58eba7"
      },
      "execution_count": null,
      "outputs": [
        {
          "output_type": "execute_result",
          "data": {
            "text/plain": [
              "0    284315\n",
              "1       492\n",
              "Name: Class, dtype: int64"
            ]
          },
          "metadata": {},
          "execution_count": 47
        }
      ]
    },
    {
      "cell_type": "code",
      "source": [
        "data.info()"
      ],
      "metadata": {
        "colab": {
          "base_uri": "https://localhost:8080/"
        },
        "id": "Cldbh43p9YTz",
        "outputId": "7a7434c5-914f-4033-ccf5-bc864c7b5341"
      },
      "execution_count": null,
      "outputs": [
        {
          "output_type": "stream",
          "name": "stdout",
          "text": [
            "<class 'pandas.core.frame.DataFrame'>\n",
            "RangeIndex: 284807 entries, 0 to 284806\n",
            "Data columns (total 31 columns):\n",
            " #   Column  Non-Null Count   Dtype  \n",
            "---  ------  --------------   -----  \n",
            " 0   Time    284807 non-null  float64\n",
            " 1   V1      284807 non-null  float64\n",
            " 2   V2      284807 non-null  float64\n",
            " 3   V3      284807 non-null  float64\n",
            " 4   V4      284807 non-null  float64\n",
            " 5   V5      284807 non-null  float64\n",
            " 6   V6      284807 non-null  float64\n",
            " 7   V7      284807 non-null  float64\n",
            " 8   V8      284807 non-null  float64\n",
            " 9   V9      284807 non-null  float64\n",
            " 10  V10     284807 non-null  float64\n",
            " 11  V11     284807 non-null  float64\n",
            " 12  V12     284807 non-null  float64\n",
            " 13  V13     284807 non-null  float64\n",
            " 14  V14     284807 non-null  float64\n",
            " 15  V15     284807 non-null  float64\n",
            " 16  V16     284807 non-null  float64\n",
            " 17  V17     284807 non-null  float64\n",
            " 18  V18     284807 non-null  float64\n",
            " 19  V19     284807 non-null  float64\n",
            " 20  V20     284807 non-null  float64\n",
            " 21  V21     284807 non-null  float64\n",
            " 22  V22     284807 non-null  float64\n",
            " 23  V23     284807 non-null  float64\n",
            " 24  V24     284807 non-null  float64\n",
            " 25  V25     284807 non-null  float64\n",
            " 26  V26     284807 non-null  float64\n",
            " 27  V27     284807 non-null  float64\n",
            " 28  V28     284807 non-null  float64\n",
            " 29  Amount  284807 non-null  float64\n",
            " 30  Class   284807 non-null  int64  \n",
            "dtypes: float64(30), int64(1)\n",
            "memory usage: 67.4 MB\n"
          ]
        }
      ]
    },
    {
      "cell_type": "code",
      "source": [
        "data.describe().round(2)"
      ],
      "metadata": {
        "colab": {
          "base_uri": "https://localhost:8080/",
          "height": 394
        },
        "id": "MmIsSkfe-cNg",
        "outputId": "b80c4460-07fb-4a0e-e472-9c4155f975f5"
      },
      "execution_count": null,
      "outputs": [
        {
          "output_type": "execute_result",
          "data": {
            "text/plain": [
              "            Time         V1         V2         V3         V4         V5  \\\n",
              "count  284807.00  284807.00  284807.00  284807.00  284807.00  284807.00   \n",
              "mean    94813.86       0.00       0.00      -0.00       0.00       0.00   \n",
              "std     47488.15       1.96       1.65       1.52       1.42       1.38   \n",
              "min         0.00     -56.41     -72.72     -48.33      -5.68    -113.74   \n",
              "25%     54201.50      -0.92      -0.60      -0.89      -0.85      -0.69   \n",
              "50%     84692.00       0.02       0.07       0.18      -0.02      -0.05   \n",
              "75%    139320.50       1.32       0.80       1.03       0.74       0.61   \n",
              "max    172792.00       2.45      22.06       9.38      16.88      34.80   \n",
              "\n",
              "              V6         V7         V8         V9  ...        V21        V22  \\\n",
              "count  284807.00  284807.00  284807.00  284807.00  ...  284807.00  284807.00   \n",
              "mean        0.00      -0.00       0.00      -0.00  ...       0.00      -0.00   \n",
              "std         1.33       1.24       1.19       1.10  ...       0.73       0.73   \n",
              "min       -26.16     -43.56     -73.22     -13.43  ...     -34.83     -10.93   \n",
              "25%        -0.77      -0.55      -0.21      -0.64  ...      -0.23      -0.54   \n",
              "50%        -0.27       0.04       0.02      -0.05  ...      -0.03       0.01   \n",
              "75%         0.40       0.57       0.33       0.60  ...       0.19       0.53   \n",
              "max        73.30     120.59      20.01      15.59  ...      27.20      10.50   \n",
              "\n",
              "             V23        V24        V25        V26        V27        V28  \\\n",
              "count  284807.00  284807.00  284807.00  284807.00  284807.00  284807.00   \n",
              "mean        0.00       0.00       0.00       0.00      -0.00      -0.00   \n",
              "std         0.62       0.61       0.52       0.48       0.40       0.33   \n",
              "min       -44.81      -2.84     -10.30      -2.60     -22.57     -15.43   \n",
              "25%        -0.16      -0.35      -0.32      -0.33      -0.07      -0.05   \n",
              "50%        -0.01       0.04       0.02      -0.05       0.00       0.01   \n",
              "75%         0.15       0.44       0.35       0.24       0.09       0.08   \n",
              "max        22.53       4.58       7.52       3.52      31.61      33.85   \n",
              "\n",
              "          Amount      Class  \n",
              "count  284807.00  284807.00  \n",
              "mean       88.35       0.00  \n",
              "std       250.12       0.04  \n",
              "min         0.00       0.00  \n",
              "25%         5.60       0.00  \n",
              "50%        22.00       0.00  \n",
              "75%        77.16       0.00  \n",
              "max     25691.16       1.00  \n",
              "\n",
              "[8 rows x 31 columns]"
            ],
            "text/html": [
              "\n",
              "  <div id=\"df-f0c0ad92-25e7-4eb0-bd83-ec2c57fe38da\">\n",
              "    <div class=\"colab-df-container\">\n",
              "      <div>\n",
              "<style scoped>\n",
              "    .dataframe tbody tr th:only-of-type {\n",
              "        vertical-align: middle;\n",
              "    }\n",
              "\n",
              "    .dataframe tbody tr th {\n",
              "        vertical-align: top;\n",
              "    }\n",
              "\n",
              "    .dataframe thead th {\n",
              "        text-align: right;\n",
              "    }\n",
              "</style>\n",
              "<table border=\"1\" class=\"dataframe\">\n",
              "  <thead>\n",
              "    <tr style=\"text-align: right;\">\n",
              "      <th></th>\n",
              "      <th>Time</th>\n",
              "      <th>V1</th>\n",
              "      <th>V2</th>\n",
              "      <th>V3</th>\n",
              "      <th>V4</th>\n",
              "      <th>V5</th>\n",
              "      <th>V6</th>\n",
              "      <th>V7</th>\n",
              "      <th>V8</th>\n",
              "      <th>V9</th>\n",
              "      <th>...</th>\n",
              "      <th>V21</th>\n",
              "      <th>V22</th>\n",
              "      <th>V23</th>\n",
              "      <th>V24</th>\n",
              "      <th>V25</th>\n",
              "      <th>V26</th>\n",
              "      <th>V27</th>\n",
              "      <th>V28</th>\n",
              "      <th>Amount</th>\n",
              "      <th>Class</th>\n",
              "    </tr>\n",
              "  </thead>\n",
              "  <tbody>\n",
              "    <tr>\n",
              "      <th>count</th>\n",
              "      <td>284807.00</td>\n",
              "      <td>284807.00</td>\n",
              "      <td>284807.00</td>\n",
              "      <td>284807.00</td>\n",
              "      <td>284807.00</td>\n",
              "      <td>284807.00</td>\n",
              "      <td>284807.00</td>\n",
              "      <td>284807.00</td>\n",
              "      <td>284807.00</td>\n",
              "      <td>284807.00</td>\n",
              "      <td>...</td>\n",
              "      <td>284807.00</td>\n",
              "      <td>284807.00</td>\n",
              "      <td>284807.00</td>\n",
              "      <td>284807.00</td>\n",
              "      <td>284807.00</td>\n",
              "      <td>284807.00</td>\n",
              "      <td>284807.00</td>\n",
              "      <td>284807.00</td>\n",
              "      <td>284807.00</td>\n",
              "      <td>284807.00</td>\n",
              "    </tr>\n",
              "    <tr>\n",
              "      <th>mean</th>\n",
              "      <td>94813.86</td>\n",
              "      <td>0.00</td>\n",
              "      <td>0.00</td>\n",
              "      <td>-0.00</td>\n",
              "      <td>0.00</td>\n",
              "      <td>0.00</td>\n",
              "      <td>0.00</td>\n",
              "      <td>-0.00</td>\n",
              "      <td>0.00</td>\n",
              "      <td>-0.00</td>\n",
              "      <td>...</td>\n",
              "      <td>0.00</td>\n",
              "      <td>-0.00</td>\n",
              "      <td>0.00</td>\n",
              "      <td>0.00</td>\n",
              "      <td>0.00</td>\n",
              "      <td>0.00</td>\n",
              "      <td>-0.00</td>\n",
              "      <td>-0.00</td>\n",
              "      <td>88.35</td>\n",
              "      <td>0.00</td>\n",
              "    </tr>\n",
              "    <tr>\n",
              "      <th>std</th>\n",
              "      <td>47488.15</td>\n",
              "      <td>1.96</td>\n",
              "      <td>1.65</td>\n",
              "      <td>1.52</td>\n",
              "      <td>1.42</td>\n",
              "      <td>1.38</td>\n",
              "      <td>1.33</td>\n",
              "      <td>1.24</td>\n",
              "      <td>1.19</td>\n",
              "      <td>1.10</td>\n",
              "      <td>...</td>\n",
              "      <td>0.73</td>\n",
              "      <td>0.73</td>\n",
              "      <td>0.62</td>\n",
              "      <td>0.61</td>\n",
              "      <td>0.52</td>\n",
              "      <td>0.48</td>\n",
              "      <td>0.40</td>\n",
              "      <td>0.33</td>\n",
              "      <td>250.12</td>\n",
              "      <td>0.04</td>\n",
              "    </tr>\n",
              "    <tr>\n",
              "      <th>min</th>\n",
              "      <td>0.00</td>\n",
              "      <td>-56.41</td>\n",
              "      <td>-72.72</td>\n",
              "      <td>-48.33</td>\n",
              "      <td>-5.68</td>\n",
              "      <td>-113.74</td>\n",
              "      <td>-26.16</td>\n",
              "      <td>-43.56</td>\n",
              "      <td>-73.22</td>\n",
              "      <td>-13.43</td>\n",
              "      <td>...</td>\n",
              "      <td>-34.83</td>\n",
              "      <td>-10.93</td>\n",
              "      <td>-44.81</td>\n",
              "      <td>-2.84</td>\n",
              "      <td>-10.30</td>\n",
              "      <td>-2.60</td>\n",
              "      <td>-22.57</td>\n",
              "      <td>-15.43</td>\n",
              "      <td>0.00</td>\n",
              "      <td>0.00</td>\n",
              "    </tr>\n",
              "    <tr>\n",
              "      <th>25%</th>\n",
              "      <td>54201.50</td>\n",
              "      <td>-0.92</td>\n",
              "      <td>-0.60</td>\n",
              "      <td>-0.89</td>\n",
              "      <td>-0.85</td>\n",
              "      <td>-0.69</td>\n",
              "      <td>-0.77</td>\n",
              "      <td>-0.55</td>\n",
              "      <td>-0.21</td>\n",
              "      <td>-0.64</td>\n",
              "      <td>...</td>\n",
              "      <td>-0.23</td>\n",
              "      <td>-0.54</td>\n",
              "      <td>-0.16</td>\n",
              "      <td>-0.35</td>\n",
              "      <td>-0.32</td>\n",
              "      <td>-0.33</td>\n",
              "      <td>-0.07</td>\n",
              "      <td>-0.05</td>\n",
              "      <td>5.60</td>\n",
              "      <td>0.00</td>\n",
              "    </tr>\n",
              "    <tr>\n",
              "      <th>50%</th>\n",
              "      <td>84692.00</td>\n",
              "      <td>0.02</td>\n",
              "      <td>0.07</td>\n",
              "      <td>0.18</td>\n",
              "      <td>-0.02</td>\n",
              "      <td>-0.05</td>\n",
              "      <td>-0.27</td>\n",
              "      <td>0.04</td>\n",
              "      <td>0.02</td>\n",
              "      <td>-0.05</td>\n",
              "      <td>...</td>\n",
              "      <td>-0.03</td>\n",
              "      <td>0.01</td>\n",
              "      <td>-0.01</td>\n",
              "      <td>0.04</td>\n",
              "      <td>0.02</td>\n",
              "      <td>-0.05</td>\n",
              "      <td>0.00</td>\n",
              "      <td>0.01</td>\n",
              "      <td>22.00</td>\n",
              "      <td>0.00</td>\n",
              "    </tr>\n",
              "    <tr>\n",
              "      <th>75%</th>\n",
              "      <td>139320.50</td>\n",
              "      <td>1.32</td>\n",
              "      <td>0.80</td>\n",
              "      <td>1.03</td>\n",
              "      <td>0.74</td>\n",
              "      <td>0.61</td>\n",
              "      <td>0.40</td>\n",
              "      <td>0.57</td>\n",
              "      <td>0.33</td>\n",
              "      <td>0.60</td>\n",
              "      <td>...</td>\n",
              "      <td>0.19</td>\n",
              "      <td>0.53</td>\n",
              "      <td>0.15</td>\n",
              "      <td>0.44</td>\n",
              "      <td>0.35</td>\n",
              "      <td>0.24</td>\n",
              "      <td>0.09</td>\n",
              "      <td>0.08</td>\n",
              "      <td>77.16</td>\n",
              "      <td>0.00</td>\n",
              "    </tr>\n",
              "    <tr>\n",
              "      <th>max</th>\n",
              "      <td>172792.00</td>\n",
              "      <td>2.45</td>\n",
              "      <td>22.06</td>\n",
              "      <td>9.38</td>\n",
              "      <td>16.88</td>\n",
              "      <td>34.80</td>\n",
              "      <td>73.30</td>\n",
              "      <td>120.59</td>\n",
              "      <td>20.01</td>\n",
              "      <td>15.59</td>\n",
              "      <td>...</td>\n",
              "      <td>27.20</td>\n",
              "      <td>10.50</td>\n",
              "      <td>22.53</td>\n",
              "      <td>4.58</td>\n",
              "      <td>7.52</td>\n",
              "      <td>3.52</td>\n",
              "      <td>31.61</td>\n",
              "      <td>33.85</td>\n",
              "      <td>25691.16</td>\n",
              "      <td>1.00</td>\n",
              "    </tr>\n",
              "  </tbody>\n",
              "</table>\n",
              "<p>8 rows × 31 columns</p>\n",
              "</div>\n",
              "      <button class=\"colab-df-convert\" onclick=\"convertToInteractive('df-f0c0ad92-25e7-4eb0-bd83-ec2c57fe38da')\"\n",
              "              title=\"Convert this dataframe to an interactive table.\"\n",
              "              style=\"display:none;\">\n",
              "        \n",
              "  <svg xmlns=\"http://www.w3.org/2000/svg\" height=\"24px\"viewBox=\"0 0 24 24\"\n",
              "       width=\"24px\">\n",
              "    <path d=\"M0 0h24v24H0V0z\" fill=\"none\"/>\n",
              "    <path d=\"M18.56 5.44l.94 2.06.94-2.06 2.06-.94-2.06-.94-.94-2.06-.94 2.06-2.06.94zm-11 1L8.5 8.5l.94-2.06 2.06-.94-2.06-.94L8.5 2.5l-.94 2.06-2.06.94zm10 10l.94 2.06.94-2.06 2.06-.94-2.06-.94-.94-2.06-.94 2.06-2.06.94z\"/><path d=\"M17.41 7.96l-1.37-1.37c-.4-.4-.92-.59-1.43-.59-.52 0-1.04.2-1.43.59L10.3 9.45l-7.72 7.72c-.78.78-.78 2.05 0 2.83L4 21.41c.39.39.9.59 1.41.59.51 0 1.02-.2 1.41-.59l7.78-7.78 2.81-2.81c.8-.78.8-2.07 0-2.86zM5.41 20L4 18.59l7.72-7.72 1.47 1.35L5.41 20z\"/>\n",
              "  </svg>\n",
              "      </button>\n",
              "      \n",
              "  <style>\n",
              "    .colab-df-container {\n",
              "      display:flex;\n",
              "      flex-wrap:wrap;\n",
              "      gap: 12px;\n",
              "    }\n",
              "\n",
              "    .colab-df-convert {\n",
              "      background-color: #E8F0FE;\n",
              "      border: none;\n",
              "      border-radius: 50%;\n",
              "      cursor: pointer;\n",
              "      display: none;\n",
              "      fill: #1967D2;\n",
              "      height: 32px;\n",
              "      padding: 0 0 0 0;\n",
              "      width: 32px;\n",
              "    }\n",
              "\n",
              "    .colab-df-convert:hover {\n",
              "      background-color: #E2EBFA;\n",
              "      box-shadow: 0px 1px 2px rgba(60, 64, 67, 0.3), 0px 1px 3px 1px rgba(60, 64, 67, 0.15);\n",
              "      fill: #174EA6;\n",
              "    }\n",
              "\n",
              "    [theme=dark] .colab-df-convert {\n",
              "      background-color: #3B4455;\n",
              "      fill: #D2E3FC;\n",
              "    }\n",
              "\n",
              "    [theme=dark] .colab-df-convert:hover {\n",
              "      background-color: #434B5C;\n",
              "      box-shadow: 0px 1px 3px 1px rgba(0, 0, 0, 0.15);\n",
              "      filter: drop-shadow(0px 1px 2px rgba(0, 0, 0, 0.3));\n",
              "      fill: #FFFFFF;\n",
              "    }\n",
              "  </style>\n",
              "\n",
              "      <script>\n",
              "        const buttonEl =\n",
              "          document.querySelector('#df-f0c0ad92-25e7-4eb0-bd83-ec2c57fe38da button.colab-df-convert');\n",
              "        buttonEl.style.display =\n",
              "          google.colab.kernel.accessAllowed ? 'block' : 'none';\n",
              "\n",
              "        async function convertToInteractive(key) {\n",
              "          const element = document.querySelector('#df-f0c0ad92-25e7-4eb0-bd83-ec2c57fe38da');\n",
              "          const dataTable =\n",
              "            await google.colab.kernel.invokeFunction('convertToInteractive',\n",
              "                                                     [key], {});\n",
              "          if (!dataTable) return;\n",
              "\n",
              "          const docLinkHtml = 'Like what you see? Visit the ' +\n",
              "            '<a target=\"_blank\" href=https://colab.research.google.com/notebooks/data_table.ipynb>data table notebook</a>'\n",
              "            + ' to learn more about interactive tables.';\n",
              "          element.innerHTML = '';\n",
              "          dataTable['output_type'] = 'display_data';\n",
              "          await google.colab.output.renderOutput(dataTable, element);\n",
              "          const docLink = document.createElement('div');\n",
              "          docLink.innerHTML = docLinkHtml;\n",
              "          element.appendChild(docLink);\n",
              "        }\n",
              "      </script>\n",
              "    </div>\n",
              "  </div>\n",
              "  "
            ]
          },
          "metadata": {},
          "execution_count": 49
        }
      ]
    },
    {
      "cell_type": "code",
      "source": [
        "data.describe().round(3).style.background_gradient()"
      ],
      "metadata": {
        "colab": {
          "base_uri": "https://localhost:8080/",
          "height": 320
        },
        "id": "CnDPicqt-oci",
        "outputId": "cb00047f-6c8e-478e-dc88-3918f9df7426"
      },
      "execution_count": null,
      "outputs": [
        {
          "output_type": "execute_result",
          "data": {
            "text/plain": [
              "<pandas.io.formats.style.Styler at 0x7fb6b1c89410>"
            ],
            "text/html": [
              "<style type=\"text/css\">\n",
              "#T_87d3b_row0_col0, #T_87d3b_row0_col1, #T_87d3b_row0_col2, #T_87d3b_row0_col3, #T_87d3b_row0_col4, #T_87d3b_row0_col5, #T_87d3b_row0_col6, #T_87d3b_row0_col7, #T_87d3b_row0_col8, #T_87d3b_row0_col9, #T_87d3b_row0_col10, #T_87d3b_row0_col11, #T_87d3b_row0_col12, #T_87d3b_row0_col13, #T_87d3b_row0_col14, #T_87d3b_row0_col15, #T_87d3b_row0_col16, #T_87d3b_row0_col17, #T_87d3b_row0_col18, #T_87d3b_row0_col19, #T_87d3b_row0_col20, #T_87d3b_row0_col21, #T_87d3b_row0_col22, #T_87d3b_row0_col23, #T_87d3b_row0_col24, #T_87d3b_row0_col25, #T_87d3b_row0_col26, #T_87d3b_row0_col27, #T_87d3b_row0_col28, #T_87d3b_row0_col29, #T_87d3b_row0_col30 {\n",
              "  background-color: #023858;\n",
              "  color: #f1f1f1;\n",
              "}\n",
              "#T_87d3b_row1_col0 {\n",
              "  background-color: #b4c4df;\n",
              "  color: #000000;\n",
              "}\n",
              "#T_87d3b_row1_col1, #T_87d3b_row1_col2, #T_87d3b_row1_col3, #T_87d3b_row1_col4, #T_87d3b_row1_col5, #T_87d3b_row1_col6, #T_87d3b_row1_col7, #T_87d3b_row1_col8, #T_87d3b_row1_col9, #T_87d3b_row1_col10, #T_87d3b_row1_col11, #T_87d3b_row1_col12, #T_87d3b_row1_col13, #T_87d3b_row1_col14, #T_87d3b_row1_col15, #T_87d3b_row1_col16, #T_87d3b_row1_col17, #T_87d3b_row1_col18, #T_87d3b_row1_col19, #T_87d3b_row1_col20, #T_87d3b_row1_col21, #T_87d3b_row1_col22, #T_87d3b_row1_col23, #T_87d3b_row1_col24, #T_87d3b_row1_col25, #T_87d3b_row1_col26, #T_87d3b_row1_col27, #T_87d3b_row1_col28, #T_87d3b_row1_col29, #T_87d3b_row1_col30, #T_87d3b_row2_col1, #T_87d3b_row2_col2, #T_87d3b_row2_col3, #T_87d3b_row2_col4, #T_87d3b_row2_col5, #T_87d3b_row2_col6, #T_87d3b_row2_col7, #T_87d3b_row2_col8, #T_87d3b_row2_col9, #T_87d3b_row2_col10, #T_87d3b_row2_col11, #T_87d3b_row2_col12, #T_87d3b_row2_col13, #T_87d3b_row2_col14, #T_87d3b_row2_col15, #T_87d3b_row2_col16, #T_87d3b_row2_col17, #T_87d3b_row2_col18, #T_87d3b_row2_col19, #T_87d3b_row2_col20, #T_87d3b_row2_col21, #T_87d3b_row2_col22, #T_87d3b_row2_col23, #T_87d3b_row2_col24, #T_87d3b_row2_col25, #T_87d3b_row2_col26, #T_87d3b_row2_col27, #T_87d3b_row2_col28, #T_87d3b_row2_col29, #T_87d3b_row2_col30, #T_87d3b_row3_col0, #T_87d3b_row3_col1, #T_87d3b_row3_col2, #T_87d3b_row3_col3, #T_87d3b_row3_col4, #T_87d3b_row3_col5, #T_87d3b_row3_col6, #T_87d3b_row3_col7, #T_87d3b_row3_col8, #T_87d3b_row3_col9, #T_87d3b_row3_col10, #T_87d3b_row3_col11, #T_87d3b_row3_col12, #T_87d3b_row3_col13, #T_87d3b_row3_col14, #T_87d3b_row3_col15, #T_87d3b_row3_col16, #T_87d3b_row3_col17, #T_87d3b_row3_col18, #T_87d3b_row3_col19, #T_87d3b_row3_col20, #T_87d3b_row3_col21, #T_87d3b_row3_col22, #T_87d3b_row3_col23, #T_87d3b_row3_col24, #T_87d3b_row3_col25, #T_87d3b_row3_col26, #T_87d3b_row3_col27, #T_87d3b_row3_col28, #T_87d3b_row3_col29, #T_87d3b_row3_col30, #T_87d3b_row4_col1, #T_87d3b_row4_col2, #T_87d3b_row4_col3, #T_87d3b_row4_col4, #T_87d3b_row4_col5, #T_87d3b_row4_col6, #T_87d3b_row4_col7, #T_87d3b_row4_col8, #T_87d3b_row4_col9, #T_87d3b_row4_col10, #T_87d3b_row4_col11, #T_87d3b_row4_col12, #T_87d3b_row4_col13, #T_87d3b_row4_col14, #T_87d3b_row4_col15, #T_87d3b_row4_col16, #T_87d3b_row4_col17, #T_87d3b_row4_col18, #T_87d3b_row4_col19, #T_87d3b_row4_col20, #T_87d3b_row4_col21, #T_87d3b_row4_col22, #T_87d3b_row4_col23, #T_87d3b_row4_col24, #T_87d3b_row4_col25, #T_87d3b_row4_col26, #T_87d3b_row4_col27, #T_87d3b_row4_col28, #T_87d3b_row4_col29, #T_87d3b_row4_col30, #T_87d3b_row5_col1, #T_87d3b_row5_col2, #T_87d3b_row5_col3, #T_87d3b_row5_col4, #T_87d3b_row5_col5, #T_87d3b_row5_col6, #T_87d3b_row5_col7, #T_87d3b_row5_col8, #T_87d3b_row5_col9, #T_87d3b_row5_col10, #T_87d3b_row5_col11, #T_87d3b_row5_col12, #T_87d3b_row5_col13, #T_87d3b_row5_col14, #T_87d3b_row5_col15, #T_87d3b_row5_col16, #T_87d3b_row5_col17, #T_87d3b_row5_col18, #T_87d3b_row5_col19, #T_87d3b_row5_col20, #T_87d3b_row5_col21, #T_87d3b_row5_col22, #T_87d3b_row5_col23, #T_87d3b_row5_col24, #T_87d3b_row5_col25, #T_87d3b_row5_col26, #T_87d3b_row5_col27, #T_87d3b_row5_col28, #T_87d3b_row5_col29, #T_87d3b_row5_col30, #T_87d3b_row6_col1, #T_87d3b_row6_col2, #T_87d3b_row6_col3, #T_87d3b_row6_col4, #T_87d3b_row6_col5, #T_87d3b_row6_col6, #T_87d3b_row6_col7, #T_87d3b_row6_col8, #T_87d3b_row6_col9, #T_87d3b_row6_col10, #T_87d3b_row6_col11, #T_87d3b_row6_col12, #T_87d3b_row6_col13, #T_87d3b_row6_col14, #T_87d3b_row6_col15, #T_87d3b_row6_col16, #T_87d3b_row6_col17, #T_87d3b_row6_col18, #T_87d3b_row6_col19, #T_87d3b_row6_col20, #T_87d3b_row6_col21, #T_87d3b_row6_col22, #T_87d3b_row6_col23, #T_87d3b_row6_col24, #T_87d3b_row6_col25, #T_87d3b_row6_col26, #T_87d3b_row6_col27, #T_87d3b_row6_col28, #T_87d3b_row6_col29, #T_87d3b_row6_col30, #T_87d3b_row7_col1, #T_87d3b_row7_col2, #T_87d3b_row7_col3, #T_87d3b_row7_col4, #T_87d3b_row7_col5, #T_87d3b_row7_col6, #T_87d3b_row7_col7, #T_87d3b_row7_col8, #T_87d3b_row7_col9, #T_87d3b_row7_col10, #T_87d3b_row7_col11, #T_87d3b_row7_col12, #T_87d3b_row7_col13, #T_87d3b_row7_col14, #T_87d3b_row7_col15, #T_87d3b_row7_col16, #T_87d3b_row7_col17, #T_87d3b_row7_col18, #T_87d3b_row7_col19, #T_87d3b_row7_col20, #T_87d3b_row7_col21, #T_87d3b_row7_col22, #T_87d3b_row7_col23, #T_87d3b_row7_col24, #T_87d3b_row7_col25, #T_87d3b_row7_col26, #T_87d3b_row7_col27, #T_87d3b_row7_col28, #T_87d3b_row7_col30 {\n",
              "  background-color: #fff7fb;\n",
              "  color: #000000;\n",
              "}\n",
              "#T_87d3b_row2_col0 {\n",
              "  background-color: #e3e0ee;\n",
              "  color: #000000;\n",
              "}\n",
              "#T_87d3b_row4_col0 {\n",
              "  background-color: #dedcec;\n",
              "  color: #000000;\n",
              "}\n",
              "#T_87d3b_row5_col0 {\n",
              "  background-color: #c0c9e2;\n",
              "  color: #000000;\n",
              "}\n",
              "#T_87d3b_row6_col0 {\n",
              "  background-color: #78abd0;\n",
              "  color: #f1f1f1;\n",
              "}\n",
              "#T_87d3b_row7_col0 {\n",
              "  background-color: #3f93c2;\n",
              "  color: #f1f1f1;\n",
              "}\n",
              "#T_87d3b_row7_col29 {\n",
              "  background-color: #f1ebf5;\n",
              "  color: #000000;\n",
              "}\n",
              "</style>\n",
              "<table id=\"T_87d3b_\" class=\"dataframe\">\n",
              "  <thead>\n",
              "    <tr>\n",
              "      <th class=\"blank level0\" >&nbsp;</th>\n",
              "      <th class=\"col_heading level0 col0\" >Time</th>\n",
              "      <th class=\"col_heading level0 col1\" >V1</th>\n",
              "      <th class=\"col_heading level0 col2\" >V2</th>\n",
              "      <th class=\"col_heading level0 col3\" >V3</th>\n",
              "      <th class=\"col_heading level0 col4\" >V4</th>\n",
              "      <th class=\"col_heading level0 col5\" >V5</th>\n",
              "      <th class=\"col_heading level0 col6\" >V6</th>\n",
              "      <th class=\"col_heading level0 col7\" >V7</th>\n",
              "      <th class=\"col_heading level0 col8\" >V8</th>\n",
              "      <th class=\"col_heading level0 col9\" >V9</th>\n",
              "      <th class=\"col_heading level0 col10\" >V10</th>\n",
              "      <th class=\"col_heading level0 col11\" >V11</th>\n",
              "      <th class=\"col_heading level0 col12\" >V12</th>\n",
              "      <th class=\"col_heading level0 col13\" >V13</th>\n",
              "      <th class=\"col_heading level0 col14\" >V14</th>\n",
              "      <th class=\"col_heading level0 col15\" >V15</th>\n",
              "      <th class=\"col_heading level0 col16\" >V16</th>\n",
              "      <th class=\"col_heading level0 col17\" >V17</th>\n",
              "      <th class=\"col_heading level0 col18\" >V18</th>\n",
              "      <th class=\"col_heading level0 col19\" >V19</th>\n",
              "      <th class=\"col_heading level0 col20\" >V20</th>\n",
              "      <th class=\"col_heading level0 col21\" >V21</th>\n",
              "      <th class=\"col_heading level0 col22\" >V22</th>\n",
              "      <th class=\"col_heading level0 col23\" >V23</th>\n",
              "      <th class=\"col_heading level0 col24\" >V24</th>\n",
              "      <th class=\"col_heading level0 col25\" >V25</th>\n",
              "      <th class=\"col_heading level0 col26\" >V26</th>\n",
              "      <th class=\"col_heading level0 col27\" >V27</th>\n",
              "      <th class=\"col_heading level0 col28\" >V28</th>\n",
              "      <th class=\"col_heading level0 col29\" >Amount</th>\n",
              "      <th class=\"col_heading level0 col30\" >Class</th>\n",
              "    </tr>\n",
              "  </thead>\n",
              "  <tbody>\n",
              "    <tr>\n",
              "      <th id=\"T_87d3b_level0_row0\" class=\"row_heading level0 row0\" >count</th>\n",
              "      <td id=\"T_87d3b_row0_col0\" class=\"data row0 col0\" >284807.000000</td>\n",
              "      <td id=\"T_87d3b_row0_col1\" class=\"data row0 col1\" >284807.000000</td>\n",
              "      <td id=\"T_87d3b_row0_col2\" class=\"data row0 col2\" >284807.000000</td>\n",
              "      <td id=\"T_87d3b_row0_col3\" class=\"data row0 col3\" >284807.000000</td>\n",
              "      <td id=\"T_87d3b_row0_col4\" class=\"data row0 col4\" >284807.000000</td>\n",
              "      <td id=\"T_87d3b_row0_col5\" class=\"data row0 col5\" >284807.000000</td>\n",
              "      <td id=\"T_87d3b_row0_col6\" class=\"data row0 col6\" >284807.000000</td>\n",
              "      <td id=\"T_87d3b_row0_col7\" class=\"data row0 col7\" >284807.000000</td>\n",
              "      <td id=\"T_87d3b_row0_col8\" class=\"data row0 col8\" >284807.000000</td>\n",
              "      <td id=\"T_87d3b_row0_col9\" class=\"data row0 col9\" >284807.000000</td>\n",
              "      <td id=\"T_87d3b_row0_col10\" class=\"data row0 col10\" >284807.000000</td>\n",
              "      <td id=\"T_87d3b_row0_col11\" class=\"data row0 col11\" >284807.000000</td>\n",
              "      <td id=\"T_87d3b_row0_col12\" class=\"data row0 col12\" >284807.000000</td>\n",
              "      <td id=\"T_87d3b_row0_col13\" class=\"data row0 col13\" >284807.000000</td>\n",
              "      <td id=\"T_87d3b_row0_col14\" class=\"data row0 col14\" >284807.000000</td>\n",
              "      <td id=\"T_87d3b_row0_col15\" class=\"data row0 col15\" >284807.000000</td>\n",
              "      <td id=\"T_87d3b_row0_col16\" class=\"data row0 col16\" >284807.000000</td>\n",
              "      <td id=\"T_87d3b_row0_col17\" class=\"data row0 col17\" >284807.000000</td>\n",
              "      <td id=\"T_87d3b_row0_col18\" class=\"data row0 col18\" >284807.000000</td>\n",
              "      <td id=\"T_87d3b_row0_col19\" class=\"data row0 col19\" >284807.000000</td>\n",
              "      <td id=\"T_87d3b_row0_col20\" class=\"data row0 col20\" >284807.000000</td>\n",
              "      <td id=\"T_87d3b_row0_col21\" class=\"data row0 col21\" >284807.000000</td>\n",
              "      <td id=\"T_87d3b_row0_col22\" class=\"data row0 col22\" >284807.000000</td>\n",
              "      <td id=\"T_87d3b_row0_col23\" class=\"data row0 col23\" >284807.000000</td>\n",
              "      <td id=\"T_87d3b_row0_col24\" class=\"data row0 col24\" >284807.000000</td>\n",
              "      <td id=\"T_87d3b_row0_col25\" class=\"data row0 col25\" >284807.000000</td>\n",
              "      <td id=\"T_87d3b_row0_col26\" class=\"data row0 col26\" >284807.000000</td>\n",
              "      <td id=\"T_87d3b_row0_col27\" class=\"data row0 col27\" >284807.000000</td>\n",
              "      <td id=\"T_87d3b_row0_col28\" class=\"data row0 col28\" >284807.000000</td>\n",
              "      <td id=\"T_87d3b_row0_col29\" class=\"data row0 col29\" >284807.000000</td>\n",
              "      <td id=\"T_87d3b_row0_col30\" class=\"data row0 col30\" >284807.000000</td>\n",
              "    </tr>\n",
              "    <tr>\n",
              "      <th id=\"T_87d3b_level0_row1\" class=\"row_heading level0 row1\" >mean</th>\n",
              "      <td id=\"T_87d3b_row1_col0\" class=\"data row1 col0\" >94813.860000</td>\n",
              "      <td id=\"T_87d3b_row1_col1\" class=\"data row1 col1\" >0.000000</td>\n",
              "      <td id=\"T_87d3b_row1_col2\" class=\"data row1 col2\" >0.000000</td>\n",
              "      <td id=\"T_87d3b_row1_col3\" class=\"data row1 col3\" >-0.000000</td>\n",
              "      <td id=\"T_87d3b_row1_col4\" class=\"data row1 col4\" >0.000000</td>\n",
              "      <td id=\"T_87d3b_row1_col5\" class=\"data row1 col5\" >0.000000</td>\n",
              "      <td id=\"T_87d3b_row1_col6\" class=\"data row1 col6\" >0.000000</td>\n",
              "      <td id=\"T_87d3b_row1_col7\" class=\"data row1 col7\" >-0.000000</td>\n",
              "      <td id=\"T_87d3b_row1_col8\" class=\"data row1 col8\" >0.000000</td>\n",
              "      <td id=\"T_87d3b_row1_col9\" class=\"data row1 col9\" >-0.000000</td>\n",
              "      <td id=\"T_87d3b_row1_col10\" class=\"data row1 col10\" >0.000000</td>\n",
              "      <td id=\"T_87d3b_row1_col11\" class=\"data row1 col11\" >0.000000</td>\n",
              "      <td id=\"T_87d3b_row1_col12\" class=\"data row1 col12\" >-0.000000</td>\n",
              "      <td id=\"T_87d3b_row1_col13\" class=\"data row1 col13\" >0.000000</td>\n",
              "      <td id=\"T_87d3b_row1_col14\" class=\"data row1 col14\" >0.000000</td>\n",
              "      <td id=\"T_87d3b_row1_col15\" class=\"data row1 col15\" >0.000000</td>\n",
              "      <td id=\"T_87d3b_row1_col16\" class=\"data row1 col16\" >0.000000</td>\n",
              "      <td id=\"T_87d3b_row1_col17\" class=\"data row1 col17\" >-0.000000</td>\n",
              "      <td id=\"T_87d3b_row1_col18\" class=\"data row1 col18\" >0.000000</td>\n",
              "      <td id=\"T_87d3b_row1_col19\" class=\"data row1 col19\" >0.000000</td>\n",
              "      <td id=\"T_87d3b_row1_col20\" class=\"data row1 col20\" >0.000000</td>\n",
              "      <td id=\"T_87d3b_row1_col21\" class=\"data row1 col21\" >0.000000</td>\n",
              "      <td id=\"T_87d3b_row1_col22\" class=\"data row1 col22\" >-0.000000</td>\n",
              "      <td id=\"T_87d3b_row1_col23\" class=\"data row1 col23\" >0.000000</td>\n",
              "      <td id=\"T_87d3b_row1_col24\" class=\"data row1 col24\" >0.000000</td>\n",
              "      <td id=\"T_87d3b_row1_col25\" class=\"data row1 col25\" >0.000000</td>\n",
              "      <td id=\"T_87d3b_row1_col26\" class=\"data row1 col26\" >0.000000</td>\n",
              "      <td id=\"T_87d3b_row1_col27\" class=\"data row1 col27\" >-0.000000</td>\n",
              "      <td id=\"T_87d3b_row1_col28\" class=\"data row1 col28\" >-0.000000</td>\n",
              "      <td id=\"T_87d3b_row1_col29\" class=\"data row1 col29\" >88.350000</td>\n",
              "      <td id=\"T_87d3b_row1_col30\" class=\"data row1 col30\" >0.002000</td>\n",
              "    </tr>\n",
              "    <tr>\n",
              "      <th id=\"T_87d3b_level0_row2\" class=\"row_heading level0 row2\" >std</th>\n",
              "      <td id=\"T_87d3b_row2_col0\" class=\"data row2 col0\" >47488.146000</td>\n",
              "      <td id=\"T_87d3b_row2_col1\" class=\"data row2 col1\" >1.959000</td>\n",
              "      <td id=\"T_87d3b_row2_col2\" class=\"data row2 col2\" >1.651000</td>\n",
              "      <td id=\"T_87d3b_row2_col3\" class=\"data row2 col3\" >1.516000</td>\n",
              "      <td id=\"T_87d3b_row2_col4\" class=\"data row2 col4\" >1.416000</td>\n",
              "      <td id=\"T_87d3b_row2_col5\" class=\"data row2 col5\" >1.380000</td>\n",
              "      <td id=\"T_87d3b_row2_col6\" class=\"data row2 col6\" >1.332000</td>\n",
              "      <td id=\"T_87d3b_row2_col7\" class=\"data row2 col7\" >1.237000</td>\n",
              "      <td id=\"T_87d3b_row2_col8\" class=\"data row2 col8\" >1.194000</td>\n",
              "      <td id=\"T_87d3b_row2_col9\" class=\"data row2 col9\" >1.099000</td>\n",
              "      <td id=\"T_87d3b_row2_col10\" class=\"data row2 col10\" >1.089000</td>\n",
              "      <td id=\"T_87d3b_row2_col11\" class=\"data row2 col11\" >1.021000</td>\n",
              "      <td id=\"T_87d3b_row2_col12\" class=\"data row2 col12\" >0.999000</td>\n",
              "      <td id=\"T_87d3b_row2_col13\" class=\"data row2 col13\" >0.995000</td>\n",
              "      <td id=\"T_87d3b_row2_col14\" class=\"data row2 col14\" >0.959000</td>\n",
              "      <td id=\"T_87d3b_row2_col15\" class=\"data row2 col15\" >0.915000</td>\n",
              "      <td id=\"T_87d3b_row2_col16\" class=\"data row2 col16\" >0.876000</td>\n",
              "      <td id=\"T_87d3b_row2_col17\" class=\"data row2 col17\" >0.849000</td>\n",
              "      <td id=\"T_87d3b_row2_col18\" class=\"data row2 col18\" >0.838000</td>\n",
              "      <td id=\"T_87d3b_row2_col19\" class=\"data row2 col19\" >0.814000</td>\n",
              "      <td id=\"T_87d3b_row2_col20\" class=\"data row2 col20\" >0.771000</td>\n",
              "      <td id=\"T_87d3b_row2_col21\" class=\"data row2 col21\" >0.735000</td>\n",
              "      <td id=\"T_87d3b_row2_col22\" class=\"data row2 col22\" >0.726000</td>\n",
              "      <td id=\"T_87d3b_row2_col23\" class=\"data row2 col23\" >0.624000</td>\n",
              "      <td id=\"T_87d3b_row2_col24\" class=\"data row2 col24\" >0.606000</td>\n",
              "      <td id=\"T_87d3b_row2_col25\" class=\"data row2 col25\" >0.521000</td>\n",
              "      <td id=\"T_87d3b_row2_col26\" class=\"data row2 col26\" >0.482000</td>\n",
              "      <td id=\"T_87d3b_row2_col27\" class=\"data row2 col27\" >0.404000</td>\n",
              "      <td id=\"T_87d3b_row2_col28\" class=\"data row2 col28\" >0.330000</td>\n",
              "      <td id=\"T_87d3b_row2_col29\" class=\"data row2 col29\" >250.120000</td>\n",
              "      <td id=\"T_87d3b_row2_col30\" class=\"data row2 col30\" >0.042000</td>\n",
              "    </tr>\n",
              "    <tr>\n",
              "      <th id=\"T_87d3b_level0_row3\" class=\"row_heading level0 row3\" >min</th>\n",
              "      <td id=\"T_87d3b_row3_col0\" class=\"data row3 col0\" >0.000000</td>\n",
              "      <td id=\"T_87d3b_row3_col1\" class=\"data row3 col1\" >-56.408000</td>\n",
              "      <td id=\"T_87d3b_row3_col2\" class=\"data row3 col2\" >-72.716000</td>\n",
              "      <td id=\"T_87d3b_row3_col3\" class=\"data row3 col3\" >-48.326000</td>\n",
              "      <td id=\"T_87d3b_row3_col4\" class=\"data row3 col4\" >-5.683000</td>\n",
              "      <td id=\"T_87d3b_row3_col5\" class=\"data row3 col5\" >-113.743000</td>\n",
              "      <td id=\"T_87d3b_row3_col6\" class=\"data row3 col6\" >-26.161000</td>\n",
              "      <td id=\"T_87d3b_row3_col7\" class=\"data row3 col7\" >-43.557000</td>\n",
              "      <td id=\"T_87d3b_row3_col8\" class=\"data row3 col8\" >-73.217000</td>\n",
              "      <td id=\"T_87d3b_row3_col9\" class=\"data row3 col9\" >-13.434000</td>\n",
              "      <td id=\"T_87d3b_row3_col10\" class=\"data row3 col10\" >-24.588000</td>\n",
              "      <td id=\"T_87d3b_row3_col11\" class=\"data row3 col11\" >-4.797000</td>\n",
              "      <td id=\"T_87d3b_row3_col12\" class=\"data row3 col12\" >-18.684000</td>\n",
              "      <td id=\"T_87d3b_row3_col13\" class=\"data row3 col13\" >-5.792000</td>\n",
              "      <td id=\"T_87d3b_row3_col14\" class=\"data row3 col14\" >-19.214000</td>\n",
              "      <td id=\"T_87d3b_row3_col15\" class=\"data row3 col15\" >-4.499000</td>\n",
              "      <td id=\"T_87d3b_row3_col16\" class=\"data row3 col16\" >-14.130000</td>\n",
              "      <td id=\"T_87d3b_row3_col17\" class=\"data row3 col17\" >-25.163000</td>\n",
              "      <td id=\"T_87d3b_row3_col18\" class=\"data row3 col18\" >-9.499000</td>\n",
              "      <td id=\"T_87d3b_row3_col19\" class=\"data row3 col19\" >-7.214000</td>\n",
              "      <td id=\"T_87d3b_row3_col20\" class=\"data row3 col20\" >-54.498000</td>\n",
              "      <td id=\"T_87d3b_row3_col21\" class=\"data row3 col21\" >-34.830000</td>\n",
              "      <td id=\"T_87d3b_row3_col22\" class=\"data row3 col22\" >-10.933000</td>\n",
              "      <td id=\"T_87d3b_row3_col23\" class=\"data row3 col23\" >-44.808000</td>\n",
              "      <td id=\"T_87d3b_row3_col24\" class=\"data row3 col24\" >-2.837000</td>\n",
              "      <td id=\"T_87d3b_row3_col25\" class=\"data row3 col25\" >-10.295000</td>\n",
              "      <td id=\"T_87d3b_row3_col26\" class=\"data row3 col26\" >-2.605000</td>\n",
              "      <td id=\"T_87d3b_row3_col27\" class=\"data row3 col27\" >-22.566000</td>\n",
              "      <td id=\"T_87d3b_row3_col28\" class=\"data row3 col28\" >-15.430000</td>\n",
              "      <td id=\"T_87d3b_row3_col29\" class=\"data row3 col29\" >0.000000</td>\n",
              "      <td id=\"T_87d3b_row3_col30\" class=\"data row3 col30\" >0.000000</td>\n",
              "    </tr>\n",
              "    <tr>\n",
              "      <th id=\"T_87d3b_level0_row4\" class=\"row_heading level0 row4\" >25%</th>\n",
              "      <td id=\"T_87d3b_row4_col0\" class=\"data row4 col0\" >54201.500000</td>\n",
              "      <td id=\"T_87d3b_row4_col1\" class=\"data row4 col1\" >-0.920000</td>\n",
              "      <td id=\"T_87d3b_row4_col2\" class=\"data row4 col2\" >-0.599000</td>\n",
              "      <td id=\"T_87d3b_row4_col3\" class=\"data row4 col3\" >-0.890000</td>\n",
              "      <td id=\"T_87d3b_row4_col4\" class=\"data row4 col4\" >-0.849000</td>\n",
              "      <td id=\"T_87d3b_row4_col5\" class=\"data row4 col5\" >-0.692000</td>\n",
              "      <td id=\"T_87d3b_row4_col6\" class=\"data row4 col6\" >-0.768000</td>\n",
              "      <td id=\"T_87d3b_row4_col7\" class=\"data row4 col7\" >-0.554000</td>\n",
              "      <td id=\"T_87d3b_row4_col8\" class=\"data row4 col8\" >-0.209000</td>\n",
              "      <td id=\"T_87d3b_row4_col9\" class=\"data row4 col9\" >-0.643000</td>\n",
              "      <td id=\"T_87d3b_row4_col10\" class=\"data row4 col10\" >-0.535000</td>\n",
              "      <td id=\"T_87d3b_row4_col11\" class=\"data row4 col11\" >-0.762000</td>\n",
              "      <td id=\"T_87d3b_row4_col12\" class=\"data row4 col12\" >-0.406000</td>\n",
              "      <td id=\"T_87d3b_row4_col13\" class=\"data row4 col13\" >-0.649000</td>\n",
              "      <td id=\"T_87d3b_row4_col14\" class=\"data row4 col14\" >-0.426000</td>\n",
              "      <td id=\"T_87d3b_row4_col15\" class=\"data row4 col15\" >-0.583000</td>\n",
              "      <td id=\"T_87d3b_row4_col16\" class=\"data row4 col16\" >-0.468000</td>\n",
              "      <td id=\"T_87d3b_row4_col17\" class=\"data row4 col17\" >-0.484000</td>\n",
              "      <td id=\"T_87d3b_row4_col18\" class=\"data row4 col18\" >-0.499000</td>\n",
              "      <td id=\"T_87d3b_row4_col19\" class=\"data row4 col19\" >-0.456000</td>\n",
              "      <td id=\"T_87d3b_row4_col20\" class=\"data row4 col20\" >-0.212000</td>\n",
              "      <td id=\"T_87d3b_row4_col21\" class=\"data row4 col21\" >-0.228000</td>\n",
              "      <td id=\"T_87d3b_row4_col22\" class=\"data row4 col22\" >-0.542000</td>\n",
              "      <td id=\"T_87d3b_row4_col23\" class=\"data row4 col23\" >-0.162000</td>\n",
              "      <td id=\"T_87d3b_row4_col24\" class=\"data row4 col24\" >-0.355000</td>\n",
              "      <td id=\"T_87d3b_row4_col25\" class=\"data row4 col25\" >-0.317000</td>\n",
              "      <td id=\"T_87d3b_row4_col26\" class=\"data row4 col26\" >-0.327000</td>\n",
              "      <td id=\"T_87d3b_row4_col27\" class=\"data row4 col27\" >-0.071000</td>\n",
              "      <td id=\"T_87d3b_row4_col28\" class=\"data row4 col28\" >-0.053000</td>\n",
              "      <td id=\"T_87d3b_row4_col29\" class=\"data row4 col29\" >5.600000</td>\n",
              "      <td id=\"T_87d3b_row4_col30\" class=\"data row4 col30\" >0.000000</td>\n",
              "    </tr>\n",
              "    <tr>\n",
              "      <th id=\"T_87d3b_level0_row5\" class=\"row_heading level0 row5\" >50%</th>\n",
              "      <td id=\"T_87d3b_row5_col0\" class=\"data row5 col0\" >84692.000000</td>\n",
              "      <td id=\"T_87d3b_row5_col1\" class=\"data row5 col1\" >0.018000</td>\n",
              "      <td id=\"T_87d3b_row5_col2\" class=\"data row5 col2\" >0.065000</td>\n",
              "      <td id=\"T_87d3b_row5_col3\" class=\"data row5 col3\" >0.180000</td>\n",
              "      <td id=\"T_87d3b_row5_col4\" class=\"data row5 col4\" >-0.020000</td>\n",
              "      <td id=\"T_87d3b_row5_col5\" class=\"data row5 col5\" >-0.054000</td>\n",
              "      <td id=\"T_87d3b_row5_col6\" class=\"data row5 col6\" >-0.274000</td>\n",
              "      <td id=\"T_87d3b_row5_col7\" class=\"data row5 col7\" >0.040000</td>\n",
              "      <td id=\"T_87d3b_row5_col8\" class=\"data row5 col8\" >0.022000</td>\n",
              "      <td id=\"T_87d3b_row5_col9\" class=\"data row5 col9\" >-0.051000</td>\n",
              "      <td id=\"T_87d3b_row5_col10\" class=\"data row5 col10\" >-0.093000</td>\n",
              "      <td id=\"T_87d3b_row5_col11\" class=\"data row5 col11\" >-0.033000</td>\n",
              "      <td id=\"T_87d3b_row5_col12\" class=\"data row5 col12\" >0.140000</td>\n",
              "      <td id=\"T_87d3b_row5_col13\" class=\"data row5 col13\" >-0.014000</td>\n",
              "      <td id=\"T_87d3b_row5_col14\" class=\"data row5 col14\" >0.051000</td>\n",
              "      <td id=\"T_87d3b_row5_col15\" class=\"data row5 col15\" >0.048000</td>\n",
              "      <td id=\"T_87d3b_row5_col16\" class=\"data row5 col16\" >0.066000</td>\n",
              "      <td id=\"T_87d3b_row5_col17\" class=\"data row5 col17\" >-0.066000</td>\n",
              "      <td id=\"T_87d3b_row5_col18\" class=\"data row5 col18\" >-0.004000</td>\n",
              "      <td id=\"T_87d3b_row5_col19\" class=\"data row5 col19\" >0.004000</td>\n",
              "      <td id=\"T_87d3b_row5_col20\" class=\"data row5 col20\" >-0.062000</td>\n",
              "      <td id=\"T_87d3b_row5_col21\" class=\"data row5 col21\" >-0.029000</td>\n",
              "      <td id=\"T_87d3b_row5_col22\" class=\"data row5 col22\" >0.007000</td>\n",
              "      <td id=\"T_87d3b_row5_col23\" class=\"data row5 col23\" >-0.011000</td>\n",
              "      <td id=\"T_87d3b_row5_col24\" class=\"data row5 col24\" >0.041000</td>\n",
              "      <td id=\"T_87d3b_row5_col25\" class=\"data row5 col25\" >0.017000</td>\n",
              "      <td id=\"T_87d3b_row5_col26\" class=\"data row5 col26\" >-0.052000</td>\n",
              "      <td id=\"T_87d3b_row5_col27\" class=\"data row5 col27\" >0.001000</td>\n",
              "      <td id=\"T_87d3b_row5_col28\" class=\"data row5 col28\" >0.011000</td>\n",
              "      <td id=\"T_87d3b_row5_col29\" class=\"data row5 col29\" >22.000000</td>\n",
              "      <td id=\"T_87d3b_row5_col30\" class=\"data row5 col30\" >0.000000</td>\n",
              "    </tr>\n",
              "    <tr>\n",
              "      <th id=\"T_87d3b_level0_row6\" class=\"row_heading level0 row6\" >75%</th>\n",
              "      <td id=\"T_87d3b_row6_col0\" class=\"data row6 col0\" >139320.500000</td>\n",
              "      <td id=\"T_87d3b_row6_col1\" class=\"data row6 col1\" >1.316000</td>\n",
              "      <td id=\"T_87d3b_row6_col2\" class=\"data row6 col2\" >0.804000</td>\n",
              "      <td id=\"T_87d3b_row6_col3\" class=\"data row6 col3\" >1.027000</td>\n",
              "      <td id=\"T_87d3b_row6_col4\" class=\"data row6 col4\" >0.743000</td>\n",
              "      <td id=\"T_87d3b_row6_col5\" class=\"data row6 col5\" >0.612000</td>\n",
              "      <td id=\"T_87d3b_row6_col6\" class=\"data row6 col6\" >0.399000</td>\n",
              "      <td id=\"T_87d3b_row6_col7\" class=\"data row6 col7\" >0.570000</td>\n",
              "      <td id=\"T_87d3b_row6_col8\" class=\"data row6 col8\" >0.327000</td>\n",
              "      <td id=\"T_87d3b_row6_col9\" class=\"data row6 col9\" >0.597000</td>\n",
              "      <td id=\"T_87d3b_row6_col10\" class=\"data row6 col10\" >0.454000</td>\n",
              "      <td id=\"T_87d3b_row6_col11\" class=\"data row6 col11\" >0.740000</td>\n",
              "      <td id=\"T_87d3b_row6_col12\" class=\"data row6 col12\" >0.618000</td>\n",
              "      <td id=\"T_87d3b_row6_col13\" class=\"data row6 col13\" >0.663000</td>\n",
              "      <td id=\"T_87d3b_row6_col14\" class=\"data row6 col14\" >0.493000</td>\n",
              "      <td id=\"T_87d3b_row6_col15\" class=\"data row6 col15\" >0.649000</td>\n",
              "      <td id=\"T_87d3b_row6_col16\" class=\"data row6 col16\" >0.523000</td>\n",
              "      <td id=\"T_87d3b_row6_col17\" class=\"data row6 col17\" >0.400000</td>\n",
              "      <td id=\"T_87d3b_row6_col18\" class=\"data row6 col18\" >0.501000</td>\n",
              "      <td id=\"T_87d3b_row6_col19\" class=\"data row6 col19\" >0.459000</td>\n",
              "      <td id=\"T_87d3b_row6_col20\" class=\"data row6 col20\" >0.133000</td>\n",
              "      <td id=\"T_87d3b_row6_col21\" class=\"data row6 col21\" >0.186000</td>\n",
              "      <td id=\"T_87d3b_row6_col22\" class=\"data row6 col22\" >0.529000</td>\n",
              "      <td id=\"T_87d3b_row6_col23\" class=\"data row6 col23\" >0.148000</td>\n",
              "      <td id=\"T_87d3b_row6_col24\" class=\"data row6 col24\" >0.440000</td>\n",
              "      <td id=\"T_87d3b_row6_col25\" class=\"data row6 col25\" >0.351000</td>\n",
              "      <td id=\"T_87d3b_row6_col26\" class=\"data row6 col26\" >0.241000</td>\n",
              "      <td id=\"T_87d3b_row6_col27\" class=\"data row6 col27\" >0.091000</td>\n",
              "      <td id=\"T_87d3b_row6_col28\" class=\"data row6 col28\" >0.078000</td>\n",
              "      <td id=\"T_87d3b_row6_col29\" class=\"data row6 col29\" >77.165000</td>\n",
              "      <td id=\"T_87d3b_row6_col30\" class=\"data row6 col30\" >0.000000</td>\n",
              "    </tr>\n",
              "    <tr>\n",
              "      <th id=\"T_87d3b_level0_row7\" class=\"row_heading level0 row7\" >max</th>\n",
              "      <td id=\"T_87d3b_row7_col0\" class=\"data row7 col0\" >172792.000000</td>\n",
              "      <td id=\"T_87d3b_row7_col1\" class=\"data row7 col1\" >2.455000</td>\n",
              "      <td id=\"T_87d3b_row7_col2\" class=\"data row7 col2\" >22.058000</td>\n",
              "      <td id=\"T_87d3b_row7_col3\" class=\"data row7 col3\" >9.383000</td>\n",
              "      <td id=\"T_87d3b_row7_col4\" class=\"data row7 col4\" >16.875000</td>\n",
              "      <td id=\"T_87d3b_row7_col5\" class=\"data row7 col5\" >34.802000</td>\n",
              "      <td id=\"T_87d3b_row7_col6\" class=\"data row7 col6\" >73.302000</td>\n",
              "      <td id=\"T_87d3b_row7_col7\" class=\"data row7 col7\" >120.589000</td>\n",
              "      <td id=\"T_87d3b_row7_col8\" class=\"data row7 col8\" >20.007000</td>\n",
              "      <td id=\"T_87d3b_row7_col9\" class=\"data row7 col9\" >15.595000</td>\n",
              "      <td id=\"T_87d3b_row7_col10\" class=\"data row7 col10\" >23.745000</td>\n",
              "      <td id=\"T_87d3b_row7_col11\" class=\"data row7 col11\" >12.019000</td>\n",
              "      <td id=\"T_87d3b_row7_col12\" class=\"data row7 col12\" >7.848000</td>\n",
              "      <td id=\"T_87d3b_row7_col13\" class=\"data row7 col13\" >7.127000</td>\n",
              "      <td id=\"T_87d3b_row7_col14\" class=\"data row7 col14\" >10.527000</td>\n",
              "      <td id=\"T_87d3b_row7_col15\" class=\"data row7 col15\" >8.878000</td>\n",
              "      <td id=\"T_87d3b_row7_col16\" class=\"data row7 col16\" >17.315000</td>\n",
              "      <td id=\"T_87d3b_row7_col17\" class=\"data row7 col17\" >9.254000</td>\n",
              "      <td id=\"T_87d3b_row7_col18\" class=\"data row7 col18\" >5.041000</td>\n",
              "      <td id=\"T_87d3b_row7_col19\" class=\"data row7 col19\" >5.592000</td>\n",
              "      <td id=\"T_87d3b_row7_col20\" class=\"data row7 col20\" >39.421000</td>\n",
              "      <td id=\"T_87d3b_row7_col21\" class=\"data row7 col21\" >27.203000</td>\n",
              "      <td id=\"T_87d3b_row7_col22\" class=\"data row7 col22\" >10.503000</td>\n",
              "      <td id=\"T_87d3b_row7_col23\" class=\"data row7 col23\" >22.528000</td>\n",
              "      <td id=\"T_87d3b_row7_col24\" class=\"data row7 col24\" >4.585000</td>\n",
              "      <td id=\"T_87d3b_row7_col25\" class=\"data row7 col25\" >7.520000</td>\n",
              "      <td id=\"T_87d3b_row7_col26\" class=\"data row7 col26\" >3.517000</td>\n",
              "      <td id=\"T_87d3b_row7_col27\" class=\"data row7 col27\" >31.612000</td>\n",
              "      <td id=\"T_87d3b_row7_col28\" class=\"data row7 col28\" >33.848000</td>\n",
              "      <td id=\"T_87d3b_row7_col29\" class=\"data row7 col29\" >25691.160000</td>\n",
              "      <td id=\"T_87d3b_row7_col30\" class=\"data row7 col30\" >1.000000</td>\n",
              "    </tr>\n",
              "  </tbody>\n",
              "</table>\n"
            ]
          },
          "metadata": {},
          "execution_count": 50
        }
      ]
    },
    {
      "cell_type": "code",
      "source": [
        "data.dtypes"
      ],
      "metadata": {
        "colab": {
          "base_uri": "https://localhost:8080/"
        },
        "id": "_WC6u7yx-58V",
        "outputId": "c224c496-4582-4dac-c566-f8c39075d9ad"
      },
      "execution_count": null,
      "outputs": [
        {
          "output_type": "execute_result",
          "data": {
            "text/plain": [
              "Time      float64\n",
              "V1        float64\n",
              "V2        float64\n",
              "V3        float64\n",
              "V4        float64\n",
              "V5        float64\n",
              "V6        float64\n",
              "V7        float64\n",
              "V8        float64\n",
              "V9        float64\n",
              "V10       float64\n",
              "V11       float64\n",
              "V12       float64\n",
              "V13       float64\n",
              "V14       float64\n",
              "V15       float64\n",
              "V16       float64\n",
              "V17       float64\n",
              "V18       float64\n",
              "V19       float64\n",
              "V20       float64\n",
              "V21       float64\n",
              "V22       float64\n",
              "V23       float64\n",
              "V24       float64\n",
              "V25       float64\n",
              "V26       float64\n",
              "V27       float64\n",
              "V28       float64\n",
              "Amount    float64\n",
              "Class       int64\n",
              "dtype: object"
            ]
          },
          "metadata": {},
          "execution_count": 51
        }
      ]
    },
    {
      "cell_type": "code",
      "source": [
        "data.duplicated().sum()"
      ],
      "metadata": {
        "colab": {
          "base_uri": "https://localhost:8080/"
        },
        "id": "pRqmpr1P-9Zj",
        "outputId": "53c103d5-1e45-4d56-defa-6a59dfde3449"
      },
      "execution_count": null,
      "outputs": [
        {
          "output_type": "execute_result",
          "data": {
            "text/plain": [
              "1081"
            ]
          },
          "metadata": {},
          "execution_count": 52
        }
      ]
    },
    {
      "cell_type": "code",
      "source": [
        "#removes duplicates\n",
        "data.drop_duplicates(inplace = True)"
      ],
      "metadata": {
        "id": "at0EckTG_LL1"
      },
      "execution_count": null,
      "outputs": []
    },
    {
      "cell_type": "code",
      "source": [
        "data.shape"
      ],
      "metadata": {
        "colab": {
          "base_uri": "https://localhost:8080/"
        },
        "id": "WIcFHbMu_gwp",
        "outputId": "3e7d6325-44c6-4340-8f13-1b5e05453352"
      },
      "execution_count": null,
      "outputs": [
        {
          "output_type": "execute_result",
          "data": {
            "text/plain": [
              "(283726, 31)"
            ]
          },
          "metadata": {},
          "execution_count": 54
        }
      ]
    },
    {
      "cell_type": "code",
      "source": [
        "data.duplicated().sum()"
      ],
      "metadata": {
        "colab": {
          "base_uri": "https://localhost:8080/"
        },
        "id": "6VedtMG0_kGp",
        "outputId": "f44fb22d-2f4c-41ba-a60e-fc6d15f5c6f6"
      },
      "execution_count": null,
      "outputs": [
        {
          "output_type": "execute_result",
          "data": {
            "text/plain": [
              "0"
            ]
          },
          "metadata": {},
          "execution_count": 55
        }
      ]
    },
    {
      "cell_type": "code",
      "source": [
        "X = data.iloc[:, 0:-1]\n",
        "y = data.iloc[:, -1]"
      ],
      "metadata": {
        "id": "Uf0uC9chAd3h"
      },
      "execution_count": null,
      "outputs": []
    },
    {
      "cell_type": "code",
      "source": [
        "X.head()"
      ],
      "metadata": {
        "colab": {
          "base_uri": "https://localhost:8080/",
          "height": 299
        },
        "id": "q5pum-7oAtFs",
        "outputId": "541e25a0-1886-429e-bed0-a43bc5ec2f5b"
      },
      "execution_count": null,
      "outputs": [
        {
          "output_type": "execute_result",
          "data": {
            "text/plain": [
              "   Time        V1        V2        V3        V4        V5        V6        V7  \\\n",
              "0   0.0 -1.359807 -0.072781  2.536347  1.378155 -0.338321  0.462388  0.239599   \n",
              "1   0.0  1.191857  0.266151  0.166480  0.448154  0.060018 -0.082361 -0.078803   \n",
              "2   1.0 -1.358354 -1.340163  1.773209  0.379780 -0.503198  1.800499  0.791461   \n",
              "3   1.0 -0.966272 -0.185226  1.792993 -0.863291 -0.010309  1.247203  0.237609   \n",
              "4   2.0 -1.158233  0.877737  1.548718  0.403034 -0.407193  0.095921  0.592941   \n",
              "\n",
              "         V8        V9  ...       V20       V21       V22       V23       V24  \\\n",
              "0  0.098698  0.363787  ...  0.251412 -0.018307  0.277838 -0.110474  0.066928   \n",
              "1  0.085102 -0.255425  ... -0.069083 -0.225775 -0.638672  0.101288 -0.339846   \n",
              "2  0.247676 -1.514654  ...  0.524980  0.247998  0.771679  0.909412 -0.689281   \n",
              "3  0.377436 -1.387024  ... -0.208038 -0.108300  0.005274 -0.190321 -1.175575   \n",
              "4 -0.270533  0.817739  ...  0.408542 -0.009431  0.798278 -0.137458  0.141267   \n",
              "\n",
              "        V25       V26       V27       V28  Amount  \n",
              "0  0.128539 -0.189115  0.133558 -0.021053  149.62  \n",
              "1  0.167170  0.125895 -0.008983  0.014724    2.69  \n",
              "2 -0.327642 -0.139097 -0.055353 -0.059752  378.66  \n",
              "3  0.647376 -0.221929  0.062723  0.061458  123.50  \n",
              "4 -0.206010  0.502292  0.219422  0.215153   69.99  \n",
              "\n",
              "[5 rows x 30 columns]"
            ],
            "text/html": [
              "\n",
              "  <div id=\"df-9dbf06bd-aa0b-4098-9e60-2f7e9aaa74a8\">\n",
              "    <div class=\"colab-df-container\">\n",
              "      <div>\n",
              "<style scoped>\n",
              "    .dataframe tbody tr th:only-of-type {\n",
              "        vertical-align: middle;\n",
              "    }\n",
              "\n",
              "    .dataframe tbody tr th {\n",
              "        vertical-align: top;\n",
              "    }\n",
              "\n",
              "    .dataframe thead th {\n",
              "        text-align: right;\n",
              "    }\n",
              "</style>\n",
              "<table border=\"1\" class=\"dataframe\">\n",
              "  <thead>\n",
              "    <tr style=\"text-align: right;\">\n",
              "      <th></th>\n",
              "      <th>Time</th>\n",
              "      <th>V1</th>\n",
              "      <th>V2</th>\n",
              "      <th>V3</th>\n",
              "      <th>V4</th>\n",
              "      <th>V5</th>\n",
              "      <th>V6</th>\n",
              "      <th>V7</th>\n",
              "      <th>V8</th>\n",
              "      <th>V9</th>\n",
              "      <th>...</th>\n",
              "      <th>V20</th>\n",
              "      <th>V21</th>\n",
              "      <th>V22</th>\n",
              "      <th>V23</th>\n",
              "      <th>V24</th>\n",
              "      <th>V25</th>\n",
              "      <th>V26</th>\n",
              "      <th>V27</th>\n",
              "      <th>V28</th>\n",
              "      <th>Amount</th>\n",
              "    </tr>\n",
              "  </thead>\n",
              "  <tbody>\n",
              "    <tr>\n",
              "      <th>0</th>\n",
              "      <td>0.0</td>\n",
              "      <td>-1.359807</td>\n",
              "      <td>-0.072781</td>\n",
              "      <td>2.536347</td>\n",
              "      <td>1.378155</td>\n",
              "      <td>-0.338321</td>\n",
              "      <td>0.462388</td>\n",
              "      <td>0.239599</td>\n",
              "      <td>0.098698</td>\n",
              "      <td>0.363787</td>\n",
              "      <td>...</td>\n",
              "      <td>0.251412</td>\n",
              "      <td>-0.018307</td>\n",
              "      <td>0.277838</td>\n",
              "      <td>-0.110474</td>\n",
              "      <td>0.066928</td>\n",
              "      <td>0.128539</td>\n",
              "      <td>-0.189115</td>\n",
              "      <td>0.133558</td>\n",
              "      <td>-0.021053</td>\n",
              "      <td>149.62</td>\n",
              "    </tr>\n",
              "    <tr>\n",
              "      <th>1</th>\n",
              "      <td>0.0</td>\n",
              "      <td>1.191857</td>\n",
              "      <td>0.266151</td>\n",
              "      <td>0.166480</td>\n",
              "      <td>0.448154</td>\n",
              "      <td>0.060018</td>\n",
              "      <td>-0.082361</td>\n",
              "      <td>-0.078803</td>\n",
              "      <td>0.085102</td>\n",
              "      <td>-0.255425</td>\n",
              "      <td>...</td>\n",
              "      <td>-0.069083</td>\n",
              "      <td>-0.225775</td>\n",
              "      <td>-0.638672</td>\n",
              "      <td>0.101288</td>\n",
              "      <td>-0.339846</td>\n",
              "      <td>0.167170</td>\n",
              "      <td>0.125895</td>\n",
              "      <td>-0.008983</td>\n",
              "      <td>0.014724</td>\n",
              "      <td>2.69</td>\n",
              "    </tr>\n",
              "    <tr>\n",
              "      <th>2</th>\n",
              "      <td>1.0</td>\n",
              "      <td>-1.358354</td>\n",
              "      <td>-1.340163</td>\n",
              "      <td>1.773209</td>\n",
              "      <td>0.379780</td>\n",
              "      <td>-0.503198</td>\n",
              "      <td>1.800499</td>\n",
              "      <td>0.791461</td>\n",
              "      <td>0.247676</td>\n",
              "      <td>-1.514654</td>\n",
              "      <td>...</td>\n",
              "      <td>0.524980</td>\n",
              "      <td>0.247998</td>\n",
              "      <td>0.771679</td>\n",
              "      <td>0.909412</td>\n",
              "      <td>-0.689281</td>\n",
              "      <td>-0.327642</td>\n",
              "      <td>-0.139097</td>\n",
              "      <td>-0.055353</td>\n",
              "      <td>-0.059752</td>\n",
              "      <td>378.66</td>\n",
              "    </tr>\n",
              "    <tr>\n",
              "      <th>3</th>\n",
              "      <td>1.0</td>\n",
              "      <td>-0.966272</td>\n",
              "      <td>-0.185226</td>\n",
              "      <td>1.792993</td>\n",
              "      <td>-0.863291</td>\n",
              "      <td>-0.010309</td>\n",
              "      <td>1.247203</td>\n",
              "      <td>0.237609</td>\n",
              "      <td>0.377436</td>\n",
              "      <td>-1.387024</td>\n",
              "      <td>...</td>\n",
              "      <td>-0.208038</td>\n",
              "      <td>-0.108300</td>\n",
              "      <td>0.005274</td>\n",
              "      <td>-0.190321</td>\n",
              "      <td>-1.175575</td>\n",
              "      <td>0.647376</td>\n",
              "      <td>-0.221929</td>\n",
              "      <td>0.062723</td>\n",
              "      <td>0.061458</td>\n",
              "      <td>123.50</td>\n",
              "    </tr>\n",
              "    <tr>\n",
              "      <th>4</th>\n",
              "      <td>2.0</td>\n",
              "      <td>-1.158233</td>\n",
              "      <td>0.877737</td>\n",
              "      <td>1.548718</td>\n",
              "      <td>0.403034</td>\n",
              "      <td>-0.407193</td>\n",
              "      <td>0.095921</td>\n",
              "      <td>0.592941</td>\n",
              "      <td>-0.270533</td>\n",
              "      <td>0.817739</td>\n",
              "      <td>...</td>\n",
              "      <td>0.408542</td>\n",
              "      <td>-0.009431</td>\n",
              "      <td>0.798278</td>\n",
              "      <td>-0.137458</td>\n",
              "      <td>0.141267</td>\n",
              "      <td>-0.206010</td>\n",
              "      <td>0.502292</td>\n",
              "      <td>0.219422</td>\n",
              "      <td>0.215153</td>\n",
              "      <td>69.99</td>\n",
              "    </tr>\n",
              "  </tbody>\n",
              "</table>\n",
              "<p>5 rows × 30 columns</p>\n",
              "</div>\n",
              "      <button class=\"colab-df-convert\" onclick=\"convertToInteractive('df-9dbf06bd-aa0b-4098-9e60-2f7e9aaa74a8')\"\n",
              "              title=\"Convert this dataframe to an interactive table.\"\n",
              "              style=\"display:none;\">\n",
              "        \n",
              "  <svg xmlns=\"http://www.w3.org/2000/svg\" height=\"24px\"viewBox=\"0 0 24 24\"\n",
              "       width=\"24px\">\n",
              "    <path d=\"M0 0h24v24H0V0z\" fill=\"none\"/>\n",
              "    <path d=\"M18.56 5.44l.94 2.06.94-2.06 2.06-.94-2.06-.94-.94-2.06-.94 2.06-2.06.94zm-11 1L8.5 8.5l.94-2.06 2.06-.94-2.06-.94L8.5 2.5l-.94 2.06-2.06.94zm10 10l.94 2.06.94-2.06 2.06-.94-2.06-.94-.94-2.06-.94 2.06-2.06.94z\"/><path d=\"M17.41 7.96l-1.37-1.37c-.4-.4-.92-.59-1.43-.59-.52 0-1.04.2-1.43.59L10.3 9.45l-7.72 7.72c-.78.78-.78 2.05 0 2.83L4 21.41c.39.39.9.59 1.41.59.51 0 1.02-.2 1.41-.59l7.78-7.78 2.81-2.81c.8-.78.8-2.07 0-2.86zM5.41 20L4 18.59l7.72-7.72 1.47 1.35L5.41 20z\"/>\n",
              "  </svg>\n",
              "      </button>\n",
              "      \n",
              "  <style>\n",
              "    .colab-df-container {\n",
              "      display:flex;\n",
              "      flex-wrap:wrap;\n",
              "      gap: 12px;\n",
              "    }\n",
              "\n",
              "    .colab-df-convert {\n",
              "      background-color: #E8F0FE;\n",
              "      border: none;\n",
              "      border-radius: 50%;\n",
              "      cursor: pointer;\n",
              "      display: none;\n",
              "      fill: #1967D2;\n",
              "      height: 32px;\n",
              "      padding: 0 0 0 0;\n",
              "      width: 32px;\n",
              "    }\n",
              "\n",
              "    .colab-df-convert:hover {\n",
              "      background-color: #E2EBFA;\n",
              "      box-shadow: 0px 1px 2px rgba(60, 64, 67, 0.3), 0px 1px 3px 1px rgba(60, 64, 67, 0.15);\n",
              "      fill: #174EA6;\n",
              "    }\n",
              "\n",
              "    [theme=dark] .colab-df-convert {\n",
              "      background-color: #3B4455;\n",
              "      fill: #D2E3FC;\n",
              "    }\n",
              "\n",
              "    [theme=dark] .colab-df-convert:hover {\n",
              "      background-color: #434B5C;\n",
              "      box-shadow: 0px 1px 3px 1px rgba(0, 0, 0, 0.15);\n",
              "      filter: drop-shadow(0px 1px 2px rgba(0, 0, 0, 0.3));\n",
              "      fill: #FFFFFF;\n",
              "    }\n",
              "  </style>\n",
              "\n",
              "      <script>\n",
              "        const buttonEl =\n",
              "          document.querySelector('#df-9dbf06bd-aa0b-4098-9e60-2f7e9aaa74a8 button.colab-df-convert');\n",
              "        buttonEl.style.display =\n",
              "          google.colab.kernel.accessAllowed ? 'block' : 'none';\n",
              "\n",
              "        async function convertToInteractive(key) {\n",
              "          const element = document.querySelector('#df-9dbf06bd-aa0b-4098-9e60-2f7e9aaa74a8');\n",
              "          const dataTable =\n",
              "            await google.colab.kernel.invokeFunction('convertToInteractive',\n",
              "                                                     [key], {});\n",
              "          if (!dataTable) return;\n",
              "\n",
              "          const docLinkHtml = 'Like what you see? Visit the ' +\n",
              "            '<a target=\"_blank\" href=https://colab.research.google.com/notebooks/data_table.ipynb>data table notebook</a>'\n",
              "            + ' to learn more about interactive tables.';\n",
              "          element.innerHTML = '';\n",
              "          dataTable['output_type'] = 'display_data';\n",
              "          await google.colab.output.renderOutput(dataTable, element);\n",
              "          const docLink = document.createElement('div');\n",
              "          docLink.innerHTML = docLinkHtml;\n",
              "          element.appendChild(docLink);\n",
              "        }\n",
              "      </script>\n",
              "    </div>\n",
              "  </div>\n",
              "  "
            ]
          },
          "metadata": {},
          "execution_count": 59
        }
      ]
    },
    {
      "cell_type": "code",
      "source": [
        "y"
      ],
      "metadata": {
        "colab": {
          "base_uri": "https://localhost:8080/"
        },
        "id": "V0GOI2zlA14T",
        "outputId": "a9302e28-41ca-47a4-9d43-42766fe355ad"
      },
      "execution_count": null,
      "outputs": [
        {
          "output_type": "execute_result",
          "data": {
            "text/plain": [
              "0         0\n",
              "1         0\n",
              "2         0\n",
              "3         0\n",
              "4         0\n",
              "         ..\n",
              "284802    0\n",
              "284803    0\n",
              "284804    0\n",
              "284805    0\n",
              "284806    0\n",
              "Name: Class, Length: 283726, dtype: int64"
            ]
          },
          "metadata": {},
          "execution_count": 58
        }
      ]
    },
    {
      "cell_type": "code",
      "source": [
        "X.shape"
      ],
      "metadata": {
        "colab": {
          "base_uri": "https://localhost:8080/"
        },
        "id": "r9x1Y2mlA2fc",
        "outputId": "2af02980-a814-4c55-fee7-e429c46f5421"
      },
      "execution_count": null,
      "outputs": [
        {
          "output_type": "execute_result",
          "data": {
            "text/plain": [
              "(283726, 30)"
            ]
          },
          "metadata": {},
          "execution_count": 61
        }
      ]
    },
    {
      "cell_type": "code",
      "source": [
        "X.drop('Time' , axis = 1, inplace = True)"
      ],
      "metadata": {
        "id": "4SAYogqvBdn0"
      },
      "execution_count": null,
      "outputs": []
    },
    {
      "cell_type": "code",
      "source": [
        "X.shape"
      ],
      "metadata": {
        "colab": {
          "base_uri": "https://localhost:8080/"
        },
        "id": "PkF8c4hLBo7K",
        "outputId": "d5f59082-0e8b-4789-8c19-05159f84c139"
      },
      "execution_count": null,
      "outputs": [
        {
          "output_type": "execute_result",
          "data": {
            "text/plain": [
              "(283726, 29)"
            ]
          },
          "metadata": {},
          "execution_count": 63
        }
      ]
    },
    {
      "cell_type": "code",
      "source": [
        "from sklearn.model_selection import train_test_split"
      ],
      "metadata": {
        "id": "Y7DNlN-gBrSF"
      },
      "execution_count": null,
      "outputs": []
    },
    {
      "cell_type": "code",
      "source": [
        "Xtrain,Xtest, ytrain, ytest = train_test_split(X, y ,test_size = 0.2, random_state= 1)"
      ],
      "metadata": {
        "id": "vKdan5PcB4mz"
      },
      "execution_count": null,
      "outputs": []
    },
    {
      "cell_type": "code",
      "source": [
        "from sklearn.preprocessing import StandardScaler"
      ],
      "metadata": {
        "id": "AOgx0JloCRhV"
      },
      "execution_count": null,
      "outputs": []
    },
    {
      "cell_type": "code",
      "source": [
        "SS = StandardScaler()"
      ],
      "metadata": {
        "id": "LpTjghTHCaEY"
      },
      "execution_count": null,
      "outputs": []
    },
    {
      "cell_type": "code",
      "source": [
        "Xtrain = SS.fit_transform(Xtrain)"
      ],
      "metadata": {
        "id": "yav7RQxYCdGY"
      },
      "execution_count": null,
      "outputs": []
    },
    {
      "cell_type": "code",
      "source": [
        "Xtest = SS.transform(Xtest)"
      ],
      "metadata": {
        "id": "Q2xSCqucgifA"
      },
      "execution_count": null,
      "outputs": []
    },
    {
      "cell_type": "code",
      "source": [
        "# knn testing is high ,  ranforst is slower grdientboost is spped\n",
        "#grid search cv <> Randomizedsearch cv"
      ],
      "metadata": {
        "id": "Lb_Y-D3zCmvh"
      },
      "execution_count": null,
      "outputs": []
    },
    {
      "cell_type": "code",
      "source": [
        "from sklearn.linear_model import LogisticRegression"
      ],
      "metadata": {
        "id": "lKs4uiRtEF8O"
      },
      "execution_count": null,
      "outputs": []
    },
    {
      "cell_type": "code",
      "source": [
        "import time\n",
        "start = time.time()\n",
        "\n",
        "lr = LogisticRegression()\n",
        "lr.fit(Xtrain, ytrain)\n",
        "\n",
        "end = time.time()\n",
        "print(end - start)"
      ],
      "metadata": {
        "colab": {
          "base_uri": "https://localhost:8080/"
        },
        "id": "PK5-PKOgE-8N",
        "outputId": "283068a7-6253-4c4e-8cb9-f065f3a0c5f6"
      },
      "execution_count": null,
      "outputs": [
        {
          "output_type": "stream",
          "name": "stdout",
          "text": [
            "1.577758550643921\n"
          ]
        }
      ]
    },
    {
      "cell_type": "code",
      "source": [
        "start = time.time()\n",
        "\n",
        "print(lr.score(Xtrain, ytrain))\n",
        "print(lr.score(Xtest, ytest))\n",
        "\n",
        "end =time.time()\n",
        "print(end - start)"
      ],
      "metadata": {
        "colab": {
          "base_uri": "https://localhost:8080/"
        },
        "id": "O-M9MbXLGHWO",
        "outputId": "3bc49184-8ea3-489e-e656-2b97eb51336f"
      },
      "execution_count": null,
      "outputs": [
        {
          "output_type": "stream",
          "name": "stdout",
          "text": [
            "0.9991937615648956\n",
            "0.5764635392803017\n",
            "0.03665876388549805\n"
          ]
        },
        {
          "output_type": "stream",
          "name": "stderr",
          "text": [
            "/usr/local/lib/python3.7/dist-packages/sklearn/base.py:444: UserWarning: X has feature names, but LogisticRegression was fitted without feature names\n",
            "  f\"X has feature names, but {self.__class__.__name__} was fitted without\"\n"
          ]
        }
      ]
    },
    {
      "cell_type": "code",
      "source": [
        "from sklearn.metrics import f1_score"
      ],
      "metadata": {
        "id": "Jfvx8lwxG94_"
      },
      "execution_count": null,
      "outputs": []
    },
    {
      "cell_type": "code",
      "source": [
        "#f1 score\n",
        "ypred = lr.predict(Xtest)\n",
        "print(f1_score(ytest, ypred))"
      ],
      "metadata": {
        "colab": {
          "base_uri": "https://localhost:8080/"
        },
        "id": "9brprwH4HJW9",
        "outputId": "a184ef1b-0c50-4c4c-eba6-5bbe266e9ca4"
      },
      "execution_count": null,
      "outputs": [
        {
          "output_type": "stream",
          "name": "stdout",
          "text": [
            "0.006120254734926805\n"
          ]
        },
        {
          "output_type": "stream",
          "name": "stderr",
          "text": [
            "/usr/local/lib/python3.7/dist-packages/sklearn/base.py:444: UserWarning: X has feature names, but LogisticRegression was fitted without feature names\n",
            "  f\"X has feature names, but {self.__class__.__name__} was fitted without\"\n"
          ]
        }
      ]
    },
    {
      "cell_type": "code",
      "source": [
        "from sklearn.metrics import plot_confusion_matrix"
      ],
      "metadata": {
        "id": "7QXkfgFPH0eJ"
      },
      "execution_count": null,
      "outputs": []
    },
    {
      "cell_type": "code",
      "source": [
        "plot_confusion_matrix(lr, Xtest, ytest)"
      ],
      "metadata": {
        "colab": {
          "base_uri": "https://localhost:8080/",
          "height": 386
        },
        "id": "fcOJU12UIE8c",
        "outputId": "1ad85e3b-8b42-4c4e-f0dc-59e565b22dff"
      },
      "execution_count": null,
      "outputs": [
        {
          "output_type": "stream",
          "name": "stderr",
          "text": [
            "/usr/local/lib/python3.7/dist-packages/sklearn/utils/deprecation.py:87: FutureWarning: Function plot_confusion_matrix is deprecated; Function `plot_confusion_matrix` is deprecated in 1.0 and will be removed in 1.2. Use one of the class methods: ConfusionMatrixDisplay.from_predictions or ConfusionMatrixDisplay.from_estimator.\n",
            "  warnings.warn(msg, category=FutureWarning)\n",
            "/usr/local/lib/python3.7/dist-packages/sklearn/base.py:444: UserWarning: X has feature names, but LogisticRegression was fitted without feature names\n",
            "  f\"X has feature names, but {self.__class__.__name__} was fitted without\"\n"
          ]
        },
        {
          "output_type": "execute_result",
          "data": {
            "text/plain": [
              "<sklearn.metrics._plot.confusion_matrix.ConfusionMatrixDisplay at 0x7fb6ac167fd0>"
            ]
          },
          "metadata": {},
          "execution_count": 83
        },
        {
          "output_type": "display_data",
          "data": {
            "text/plain": [
              "<Figure size 432x288 with 2 Axes>"
            ],
            "image/png": "[encoded data removed]"
          },
          "metadata": {
            "needs_background": "light"
          }
        }
      ]
    },
    {
      "cell_type": "code",
      "source": [
        "#####SVC , trainin time is high"
      ],
      "metadata": {
        "id": "HzcOOB52Nv71"
      },
      "execution_count": null,
      "outputs": []
    },
    {
      "cell_type": "code",
      "source": [
        "from sklearn.svm import SVC\n",
        "\n",
        "import time\n",
        "start = time.time()\n",
        "\n",
        "svc = SVC()\n",
        "svc.fit(Xtrain, ytrain)\n",
        "\n",
        "end = time.time()\n",
        "print(end - start)"
      ],
      "metadata": {
        "colab": {
          "base_uri": "https://localhost:8080/"
        },
        "id": "McJCexXFIYzh",
        "outputId": "2a51b118-b833-4b3d-d92a-86b65ce6acbe"
      },
      "execution_count": null,
      "outputs": [
        {
          "output_type": "stream",
          "name": "stdout",
          "text": [
            "227.38198971748352\n"
          ]
        }
      ]
    },
    {
      "cell_type": "code",
      "source": [
        "start = time.time()\n",
        "\n",
        "print(svc.score(Xtrain, ytrain))\n",
        "print(svc.score(Xtest, ytest))\n",
        "\n",
        "end = time.time()\n",
        "print(end - start)"
      ],
      "metadata": {
        "colab": {
          "base_uri": "https://localhost:8080/"
        },
        "id": "cS_2Mig8JY3H",
        "outputId": "f8d2ee4c-6c4e-42d8-df35-10276cbf11fc"
      },
      "execution_count": null,
      "outputs": [
        {
          "output_type": "stream",
          "name": "stdout",
          "text": [
            "0.9996827914353688\n"
          ]
        },
        {
          "output_type": "stream",
          "name": "stderr",
          "text": [
            "/usr/local/lib/python3.7/dist-packages/sklearn/base.py:444: UserWarning: X has feature names, but SVC was fitted without feature names\n",
            "  f\"X has feature names, but {self.__class__.__name__} was fitted without\"\n"
          ]
        },
        {
          "output_type": "stream",
          "name": "stdout",
          "text": [
            "0.9986959433264019\n",
            "66.32250356674194\n"
          ]
        }
      ]
    },
    {
      "cell_type": "code",
      "source": [
        "from sklearn.metrics import f1_score\n",
        "\n",
        "ypred = svc.predict(Xtest)\n",
        "print(f1_score(ytest, ypred))\n",
        "\n",
        "from sklearn.metrics import plot_confusion_matrix\n",
        "plot_confusion_matrix(svc, Xtest, ytest)"
      ],
      "metadata": {
        "colab": {
          "base_uri": "https://localhost:8080/",
          "height": 438
        },
        "id": "6P54G-sEJjQa",
        "outputId": "36a67b92-36a1-44ec-9e9b-d2968950d374"
      },
      "execution_count": null,
      "outputs": [
        {
          "output_type": "stream",
          "name": "stderr",
          "text": [
            "/usr/local/lib/python3.7/dist-packages/sklearn/base.py:444: UserWarning: X has feature names, but SVC was fitted without feature names\n",
            "  f\"X has feature names, but {self.__class__.__name__} was fitted without\"\n"
          ]
        },
        {
          "output_type": "stream",
          "name": "stdout",
          "text": [
            "0.27450980392156865\n"
          ]
        },
        {
          "output_type": "stream",
          "name": "stderr",
          "text": [
            "/usr/local/lib/python3.7/dist-packages/sklearn/utils/deprecation.py:87: FutureWarning: Function plot_confusion_matrix is deprecated; Function `plot_confusion_matrix` is deprecated in 1.0 and will be removed in 1.2. Use one of the class methods: ConfusionMatrixDisplay.from_predictions or ConfusionMatrixDisplay.from_estimator.\n",
            "  warnings.warn(msg, category=FutureWarning)\n",
            "/usr/local/lib/python3.7/dist-packages/sklearn/base.py:444: UserWarning: X has feature names, but SVC was fitted without feature names\n",
            "  f\"X has feature names, but {self.__class__.__name__} was fitted without\"\n"
          ]
        },
        {
          "output_type": "execute_result",
          "data": {
            "text/plain": [
              "<sklearn.metrics._plot.confusion_matrix.ConfusionMatrixDisplay at 0x7fb6ae9d8410>"
            ]
          },
          "metadata": {},
          "execution_count": 87
        },
        {
          "output_type": "display_data",
          "data": {
            "text/plain": [
              "<Figure size 432x288 with 2 Axes>"
            ],
            "image/png": "[encoded data removed]"
          },
          "metadata": {
            "needs_background": "light"
          }
        }
      ]
    },
    {
      "cell_type": "code",
      "source": [
        "#########KNN,   testing time is high"
      ],
      "metadata": {
        "id": "OQhitPlJJz5u"
      },
      "execution_count": null,
      "outputs": []
    },
    {
      "cell_type": "code",
      "source": [
        "from sklearn.neighbors import KNeighborsClassifier\n",
        "\n",
        "start = time.time()\n",
        "\n",
        "KNN = KNeighborsClassifier()\n",
        "KNN.fit(Xtrain, ytrain)\n",
        "\n",
        "end = time.time()\n",
        "print(end - start)"
      ],
      "metadata": {
        "colab": {
          "base_uri": "https://localhost:8080/"
        },
        "id": "zdEu8JM6N0yT",
        "outputId": "bc922f03-882a-4b16-f02f-53681f2844bf"
      },
      "execution_count": null,
      "outputs": [
        {
          "output_type": "stream",
          "name": "stdout",
          "text": [
            "0.015879154205322266\n"
          ]
        }
      ]
    },
    {
      "cell_type": "code",
      "source": [
        "start = time.time()\n",
        "\n",
        "print(KNN.score(Xtrain, ytrain))\n",
        "print(KNN.score(Xtest, ytest))\n",
        "\n",
        "end =time.time()\n",
        "print(end - start)"
      ],
      "metadata": {
        "colab": {
          "base_uri": "https://localhost:8080/"
        },
        "id": "pu9FN0r8ONBm",
        "outputId": "a782bd9e-b536-4869-eb62-46fcaf75f075"
      },
      "execution_count": null,
      "outputs": [
        {
          "output_type": "stream",
          "name": "stdout",
          "text": [
            "0.999563838223632\n"
          ]
        },
        {
          "output_type": "stream",
          "name": "stderr",
          "text": [
            "/usr/local/lib/python3.7/dist-packages/sklearn/base.py:444: UserWarning: X has feature names, but KNeighborsClassifier was fitted without feature names\n",
            "  f\"X has feature names, but {self.__class__.__name__} was fitted without\"\n"
          ]
        },
        {
          "output_type": "stream",
          "name": "stdout",
          "text": [
            "0.9990131463010609\n",
            "832.8357720375061\n"
          ]
        }
      ]
    },
    {
      "cell_type": "code",
      "source": [
        "from sklearn.metrics import f1_score\n",
        "\n",
        "ypred = KNN.predict(Xtest)\n",
        "print(f1_score(ytest, ypred))\n",
        "\n",
        "from sklearn.metrics import plot_confusion_matrix\n",
        "plot_confusion_matrix(KNN, Xtest, ytest)"
      ],
      "metadata": {
        "colab": {
          "base_uri": "https://localhost:8080/",
          "height": 438
        },
        "id": "ZspeR0ftOau4",
        "outputId": "bb1fd342-ec28-4f7e-974c-90ab804f527d"
      },
      "execution_count": null,
      "outputs": [
        {
          "output_type": "stream",
          "name": "stderr",
          "text": [
            "/usr/local/lib/python3.7/dist-packages/sklearn/base.py:444: UserWarning: X has feature names, but KNeighborsClassifier was fitted without feature names\n",
            "  f\"X has feature names, but {self.__class__.__name__} was fitted without\"\n"
          ]
        },
        {
          "output_type": "stream",
          "name": "stdout",
          "text": [
            "0.5409836065573771\n"
          ]
        },
        {
          "output_type": "stream",
          "name": "stderr",
          "text": [
            "/usr/local/lib/python3.7/dist-packages/sklearn/utils/deprecation.py:87: FutureWarning: Function plot_confusion_matrix is deprecated; Function `plot_confusion_matrix` is deprecated in 1.0 and will be removed in 1.2. Use one of the class methods: ConfusionMatrixDisplay.from_predictions or ConfusionMatrixDisplay.from_estimator.\n",
            "  warnings.warn(msg, category=FutureWarning)\n",
            "/usr/local/lib/python3.7/dist-packages/sklearn/base.py:444: UserWarning: X has feature names, but KNeighborsClassifier was fitted without feature names\n",
            "  f\"X has feature names, but {self.__class__.__name__} was fitted without\"\n"
          ]
        },
        {
          "output_type": "execute_result",
          "data": {
            "text/plain": [
              "<sklearn.metrics._plot.confusion_matrix.ConfusionMatrixDisplay at 0x7fb6abb13190>"
            ]
          },
          "metadata": {},
          "execution_count": 90
        },
        {
          "output_type": "display_data",
          "data": {
            "text/plain": [
              "<Figure size 432x288 with 2 Axes>"
            ],
            "image/png": "[encoded data removed]"
          },
          "metadata": {
            "needs_background": "light"
          }
        }
      ]
    },
    {
      "cell_type": "code",
      "source": [],
      "metadata": {
        "id": "1ScbhpfSgLn3"
      },
      "execution_count": null,
      "outputs": []
    },
    {
      "cell_type": "code",
      "source": [],
      "metadata": {
        "id": "-fIpSOBegMOQ"
      },
      "execution_count": null,
      "outputs": []
    },
    {
      "cell_type": "code",
      "source": [
        "#########DTC"
      ],
      "metadata": {
        "id": "qf88R1krOnwR"
      },
      "execution_count": null,
      "outputs": []
    },
    {
      "cell_type": "code",
      "source": [
        "from sklearn.tree import DecisionTreeClassifier\n",
        "\n",
        "start = time.time()\n",
        "\n",
        "DT = DecisionTreeClassifier()\n",
        "DT.fit(Xtrain, ytrain)\n",
        "\n",
        "end = time.time()\n",
        "print(end - start)"
      ],
      "metadata": {
        "colab": {
          "base_uri": "https://localhost:8080/"
        },
        "id": "jaqo2ZtrOpM7",
        "outputId": "491cb99f-12ac-468d-e110-23a72556bed6"
      },
      "execution_count": null,
      "outputs": [
        {
          "output_type": "stream",
          "name": "stdout",
          "text": [
            "22.013167142868042\n"
          ]
        }
      ]
    },
    {
      "cell_type": "code",
      "source": [
        "start = time.time()\n",
        "\n",
        "print(DT.score(Xtrain, ytrain))\n",
        "print(DT.score(Xtest, ytest))\n",
        "\n",
        "end =time.time()\n",
        "print(end - start)"
      ],
      "metadata": {
        "colab": {
          "base_uri": "https://localhost:8080/"
        },
        "id": "RQAaGBhQPPc6",
        "outputId": "35e0acf1-748e-408f-a1c2-491f7edd752f"
      },
      "execution_count": null,
      "outputs": [
        {
          "output_type": "stream",
          "name": "stdout",
          "text": [
            "1.0\n",
            "0.9938674091565926\n",
            "0.05283999443054199\n"
          ]
        },
        {
          "output_type": "stream",
          "name": "stderr",
          "text": [
            "/usr/local/lib/python3.7/dist-packages/sklearn/base.py:444: UserWarning: X has feature names, but DecisionTreeClassifier was fitted without feature names\n",
            "  f\"X has feature names, but {self.__class__.__name__} was fitted without\"\n"
          ]
        }
      ]
    },
    {
      "cell_type": "code",
      "source": [
        "from sklearn.metrics import f1_score\n",
        "\n",
        "ypred = DT.predict(Xtest)\n",
        "print(f1_score(ytest, ypred))\n",
        "\n",
        "from sklearn.metrics import plot_confusion_matrix\n",
        "plot_confusion_matrix(DT, Xtest, ytest)"
      ],
      "metadata": {
        "colab": {
          "base_uri": "https://localhost:8080/",
          "height": 438
        },
        "id": "kzwzv_2kPg-Q",
        "outputId": "c41624fd-e87f-452c-fe67-8ee8a2eb01a8"
      },
      "execution_count": null,
      "outputs": [
        {
          "output_type": "stream",
          "name": "stdout",
          "text": [
            "0.2780082987551867\n"
          ]
        },
        {
          "output_type": "stream",
          "name": "stderr",
          "text": [
            "/usr/local/lib/python3.7/dist-packages/sklearn/base.py:444: UserWarning: X has feature names, but DecisionTreeClassifier was fitted without feature names\n",
            "  f\"X has feature names, but {self.__class__.__name__} was fitted without\"\n",
            "/usr/local/lib/python3.7/dist-packages/sklearn/utils/deprecation.py:87: FutureWarning: Function plot_confusion_matrix is deprecated; Function `plot_confusion_matrix` is deprecated in 1.0 and will be removed in 1.2. Use one of the class methods: ConfusionMatrixDisplay.from_predictions or ConfusionMatrixDisplay.from_estimator.\n",
            "  warnings.warn(msg, category=FutureWarning)\n",
            "/usr/local/lib/python3.7/dist-packages/sklearn/base.py:444: UserWarning: X has feature names, but DecisionTreeClassifier was fitted without feature names\n",
            "  f\"X has feature names, but {self.__class__.__name__} was fitted without\"\n"
          ]
        },
        {
          "output_type": "execute_result",
          "data": {
            "text/plain": [
              "<sklearn.metrics._plot.confusion_matrix.ConfusionMatrixDisplay at 0x7fb6abaf6810>"
            ]
          },
          "metadata": {},
          "execution_count": 93
        },
        {
          "output_type": "display_data",
          "data": {
            "text/plain": [
              "<Figure size 432x288 with 2 Axes>"
            ],
            "image/png": "[encoded data removed]"
          },
          "metadata": {
            "needs_background": "light"
          }
        }
      ]
    },
    {
      "cell_type": "code",
      "source": [
        "DT.feature_importances_"
      ],
      "metadata": {
        "colab": {
          "base_uri": "https://localhost:8080/"
        },
        "id": "ONIy64ieg1Xb",
        "outputId": "31d1a060-4c10-41c5-dccd-940e6ec1d86a"
      },
      "execution_count": null,
      "outputs": [
        {
          "output_type": "execute_result",
          "data": {
            "text/plain": [
              "array([0.0247922 , 0.0060552 , 0.01362128, 0.02218414, 0.00227056,\n",
              "       0.00318206, 0.02043313, 0.00602951, 0.        , 0.04969519,\n",
              "       0.00726452, 0.09894611, 0.0091719 , 0.04434897, 0.01411614,\n",
              "       0.01947973, 0.53979365, 0.        , 0.00726479, 0.01562847,\n",
              "       0.0060336 , 0.0050469 , 0.00271891, 0.002523  , 0.00300196,\n",
              "       0.02199877, 0.02124685, 0.00972561, 0.02342685])"
            ]
          },
          "metadata": {},
          "execution_count": 109
        }
      ]
    },
    {
      "cell_type": "code",
      "source": [
        "#########Ensemble\n",
        "##GradientBoosting"
      ],
      "metadata": {
        "id": "tAf27rRGP7wT"
      },
      "execution_count": null,
      "outputs": []
    },
    {
      "cell_type": "code",
      "source": [
        "from sklearn.ensemble import GradientBoostingClassifier\n",
        "\n",
        "start = time.time()\n",
        "\n",
        "GBC = GradientBoostingClassifier()\n",
        "GBC.fit(Xtrain, ytrain)\n",
        "\n",
        "end = time.time()\n",
        "print(end - start)"
      ],
      "metadata": {
        "colab": {
          "base_uri": "https://localhost:8080/"
        },
        "id": "4DgDI45wQBKE",
        "outputId": "e10304b1-ab55-4b59-ee0b-dfbae9cd1041"
      },
      "execution_count": null,
      "outputs": [
        {
          "output_type": "stream",
          "name": "stdout",
          "text": [
            "325.9317009449005\n"
          ]
        }
      ]
    },
    {
      "cell_type": "code",
      "source": [
        "start = time.time()\n",
        "\n",
        "print(GBC.score(Xtrain, ytrain))\n",
        "print(GBC.score(Xtest, ytest))\n",
        "\n",
        "end =time.time()\n",
        "print(end - start)"
      ],
      "metadata": {
        "colab": {
          "base_uri": "https://localhost:8080/"
        },
        "id": "T09gVkxOROw_",
        "outputId": "3c16388a-b13f-4c8d-8661-2f776d17f2b9"
      },
      "execution_count": null,
      "outputs": [
        {
          "output_type": "stream",
          "name": "stdout",
          "text": [
            "0.9979910124240021\n",
            "0.9980615373770838\n",
            "0.2818734645843506\n"
          ]
        },
        {
          "output_type": "stream",
          "name": "stderr",
          "text": [
            "/usr/local/lib/python3.7/dist-packages/sklearn/base.py:444: UserWarning: X has feature names, but GradientBoostingClassifier was fitted without feature names\n",
            "  f\"X has feature names, but {self.__class__.__name__} was fitted without\"\n"
          ]
        }
      ]
    },
    {
      "cell_type": "code",
      "source": [
        "from sklearn.metrics import f1_score\n",
        "\n",
        "ypred = GBC.predict(Xtest)\n",
        "print(f1_score(ytest, ypred))\n",
        "\n",
        "#plotting\n",
        "plot_confusion_matrix(GBC, Xtest, ytest)"
      ],
      "metadata": {
        "colab": {
          "base_uri": "https://localhost:8080/",
          "height": 438
        },
        "id": "fZf4zuQYRVDH",
        "outputId": "a166ea97-e0e9-43c1-9045-0a8285bd2693"
      },
      "execution_count": null,
      "outputs": [
        {
          "output_type": "stream",
          "name": "stdout",
          "text": [
            "0.28571428571428575\n"
          ]
        },
        {
          "output_type": "stream",
          "name": "stderr",
          "text": [
            "/usr/local/lib/python3.7/dist-packages/sklearn/base.py:444: UserWarning: X has feature names, but GradientBoostingClassifier was fitted without feature names\n",
            "  f\"X has feature names, but {self.__class__.__name__} was fitted without\"\n",
            "/usr/local/lib/python3.7/dist-packages/sklearn/utils/deprecation.py:87: FutureWarning: Function plot_confusion_matrix is deprecated; Function `plot_confusion_matrix` is deprecated in 1.0 and will be removed in 1.2. Use one of the class methods: ConfusionMatrixDisplay.from_predictions or ConfusionMatrixDisplay.from_estimator.\n",
            "  warnings.warn(msg, category=FutureWarning)\n",
            "/usr/local/lib/python3.7/dist-packages/sklearn/base.py:444: UserWarning: X has feature names, but GradientBoostingClassifier was fitted without feature names\n",
            "  f\"X has feature names, but {self.__class__.__name__} was fitted without\"\n"
          ]
        },
        {
          "output_type": "execute_result",
          "data": {
            "text/plain": [
              "<sklearn.metrics._plot.confusion_matrix.ConfusionMatrixDisplay at 0x7fb6ab6ee490>"
            ]
          },
          "metadata": {},
          "execution_count": 99
        },
        {
          "output_type": "display_data",
          "data": {
            "text/plain": [
              "<Figure size 432x288 with 2 Axes>"
            ],
            "image/png": "[encoded data removed]"
          },
          "metadata": {
            "needs_background": "light"
          }
        }
      ]
    },
    {
      "cell_type": "code",
      "source": [
        "########RandomForest"
      ],
      "metadata": {
        "id": "rqJRaxFARhN4"
      },
      "execution_count": null,
      "outputs": []
    },
    {
      "cell_type": "code",
      "source": [
        "from sklearn.ensemble import RandomForestClassifier\n",
        "\n",
        "start = time.time()\n",
        "\n",
        "RFC = RandomForestClassifier()\n",
        "RFC.fit(Xtrain, ytrain)\n",
        "\n",
        "end = time.time()\n",
        "print(end - start)"
      ],
      "metadata": {
        "colab": {
          "base_uri": "https://localhost:8080/"
        },
        "id": "5aUtPIh6RrX3",
        "outputId": "f1aa7403-44ff-436e-be54-b6af728ab7d4"
      },
      "execution_count": null,
      "outputs": [
        {
          "output_type": "stream",
          "name": "stdout",
          "text": [
            "211.41654515266418\n"
          ]
        }
      ]
    },
    {
      "cell_type": "code",
      "source": [
        "start = time.time()\n",
        "\n",
        "print(RFC.score(Xtrain, ytrain))\n",
        "print(RFC.score(Xtest, ytest))\n",
        "\n",
        "end =time.time()\n",
        "print(end - start)"
      ],
      "metadata": {
        "colab": {
          "base_uri": "https://localhost:8080/"
        },
        "id": "PW9S7B_lSGEc",
        "outputId": "4945850b-0945-4639-9072-720f6e908c6f"
      },
      "execution_count": null,
      "outputs": [
        {
          "output_type": "stream",
          "name": "stdout",
          "text": [
            "1.0\n"
          ]
        },
        {
          "output_type": "stream",
          "name": "stderr",
          "text": [
            "/usr/local/lib/python3.7/dist-packages/sklearn/base.py:444: UserWarning: X has feature names, but RandomForestClassifier was fitted without feature names\n",
            "  f\"X has feature names, but {self.__class__.__name__} was fitted without\"\n"
          ]
        },
        {
          "output_type": "stream",
          "name": "stdout",
          "text": [
            "0.9994537059880872\n",
            "2.60632061958313\n"
          ]
        }
      ]
    },
    {
      "cell_type": "code",
      "source": [
        "#f1score\n",
        "ypred = RFC.predict(Xtest)\n",
        "print(f1_score(ytest, ypred))\n",
        "\n",
        "#plotting\n",
        "plot_confusion_matrix(RFC, Xtest, ytest)"
      ],
      "metadata": {
        "colab": {
          "base_uri": "https://localhost:8080/",
          "height": 438
        },
        "id": "5KEMN4WZSNwm",
        "outputId": "146163d1-f374-413c-9824-54f814be4f7c"
      },
      "execution_count": null,
      "outputs": [
        {
          "output_type": "stream",
          "name": "stderr",
          "text": [
            "/usr/local/lib/python3.7/dist-packages/sklearn/base.py:444: UserWarning: X has feature names, but RandomForestClassifier was fitted without feature names\n",
            "  f\"X has feature names, but {self.__class__.__name__} was fitted without\"\n"
          ]
        },
        {
          "output_type": "stream",
          "name": "stdout",
          "text": [
            "0.8074534161490683\n"
          ]
        },
        {
          "output_type": "stream",
          "name": "stderr",
          "text": [
            "/usr/local/lib/python3.7/dist-packages/sklearn/utils/deprecation.py:87: FutureWarning: Function plot_confusion_matrix is deprecated; Function `plot_confusion_matrix` is deprecated in 1.0 and will be removed in 1.2. Use one of the class methods: ConfusionMatrixDisplay.from_predictions or ConfusionMatrixDisplay.from_estimator.\n",
            "  warnings.warn(msg, category=FutureWarning)\n",
            "/usr/local/lib/python3.7/dist-packages/sklearn/base.py:444: UserWarning: X has feature names, but RandomForestClassifier was fitted without feature names\n",
            "  f\"X has feature names, but {self.__class__.__name__} was fitted without\"\n"
          ]
        },
        {
          "output_type": "execute_result",
          "data": {
            "text/plain": [
              "<sklearn.metrics._plot.confusion_matrix.ConfusionMatrixDisplay at 0x7fb6ab4ce910>"
            ]
          },
          "metadata": {},
          "execution_count": 104
        },
        {
          "output_type": "display_data",
          "data": {
            "text/plain": [
              "<Figure size 432x288 with 2 Axes>"
            ],
            "image/png": "[encoded data removed]"
          },
          "metadata": {
            "needs_background": "light"
          }
        }
      ]
    },
    {
      "cell_type": "code",
      "source": [
        "###Naivebayes\n",
        "#when data is textual use this\n",
        "from sklearn.naive_bayes import MultinomialNB\n",
        "\n",
        "#th\n",
        "from sklearn.naive_bayes import GaussianNB"
      ],
      "metadata": {
        "id": "jR7g8HeMSkLZ"
      },
      "execution_count": null,
      "outputs": []
    },
    {
      "cell_type": "code",
      "source": [
        "from sklearn.linear_model import SGDClassifier"
      ],
      "metadata": {
        "id": "a1csqqU1T_ks"
      },
      "execution_count": null,
      "outputs": []
    },
    {
      "cell_type": "code",
      "source": [],
      "metadata": {
        "id": "jDLIKipkUZdA"
      },
      "execution_count": null,
      "outputs": []
    },
    {
      "cell_type": "code",
      "source": [
        "from sklearn.model_selection import GridSearchCV, RandomizedSearchCV"
      ],
      "metadata": {
        "id": "ieIdyIe4U3Jz"
      },
      "execution_count": null,
      "outputs": []
    },
    {
      "cell_type": "code",
      "source": [
        "#dt\n",
        "param_dist = {'max_depth':[3,6,9], 'min_samples_leaf': [3,5,7],'crieterion':['gini','entropy']}"
      ],
      "metadata": {
        "id": "jVTuxhYdVEpk"
      },
      "execution_count": null,
      "outputs": []
    },
    {
      "cell_type": "code",
      "source": [
        "param_dist"
      ],
      "metadata": {
        "colab": {
          "base_uri": "https://localhost:8080/"
        },
        "id": "X_UG1nBEW2-0",
        "outputId": "d3e774fc-6007-4a21-8fbf-37529f9cacad"
      },
      "execution_count": null,
      "outputs": [
        {
          "output_type": "execute_result",
          "data": {
            "text/plain": [
              "{'max_depth': [3, 6, 9],\n",
              " 'min_samples_leaf': [3, 5, 7],\n",
              " 'crieterion': ['gini', 'entropy']}"
            ]
          },
          "metadata": {},
          "execution_count": 118
        }
      ]
    },
    {
      "cell_type": "code",
      "source": [
        "rscv = RandomizedSearchCV(DT, param_dist , n_iter = 6, cv = 3)"
      ],
      "metadata": {
        "id": "1B37u9zBXGzM"
      },
      "execution_count": null,
      "outputs": []
    },
    {
      "cell_type": "code",
      "source": [
        "rscv.fit(Xtrain, ytrain)"
      ],
      "metadata": {
        "id": "Kb6OaDRBiZPQ"
      },
      "execution_count": null,
      "outputs": []
    },
    {
      "cell_type": "code",
      "source": [
        "rscv.best_params_"
      ],
      "metadata": {
        "id": "Jt0rhmdaXnQ4"
      },
      "execution_count": null,
      "outputs": []
    },
    {
      "cell_type": "code",
      "source": [
        "rscv.best_estimator_"
      ],
      "metadata": {
        "id": "PzqAco7vvPHq"
      },
      "execution_count": null,
      "outputs": []
    }
  ]
}